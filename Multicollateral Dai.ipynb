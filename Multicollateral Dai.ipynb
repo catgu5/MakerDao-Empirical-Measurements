{
 "cells": [
  {
   "cell_type": "markdown",
   "metadata": {},
   "source": [
    "## Blockchain Research: Oracle Attack - MCD Additional Data\n",
    "### Catherine Gu wcgu@stanford.edu, Stanford University\n",
    "### May 10, 2020"
   ]
  },
  {
   "cell_type": "code",
   "execution_count": 153,
   "metadata": {},
   "outputs": [],
   "source": [
    "import json\n",
    "import math\n",
    "import numpy as np\n",
    "import pandas as pd\n",
    "import matplotlib.pyplot as plt\n",
    "from datetime import datetime, timedelta\n",
    "import os\n",
    "from tqdm import tqdm\n",
    "from functools import reduce\n",
    "import scipy.stats as sts\n",
    "import requests"
   ]
  },
  {
   "cell_type": "code",
   "execution_count": 2,
   "metadata": {},
   "outputs": [],
   "source": [
    "#Etherscan \n",
    "My_API_key = \"P6RU4JUJR8PV3DKYR4MSCIPBYXVU8JEW91\""
   ]
  },
  {
   "cell_type": "code",
   "execution_count": 3,
   "metadata": {},
   "outputs": [],
   "source": [
    "def create_dataframe(response_list):\n",
    "    \"\"\"\n",
    "    Creating a dataframe using the eventLogs responses, extracting input data information\n",
    "    by doing transactionbyHash call for each of the txs \n",
    "    NOTE: this step will take on average 20min to complete all the API calls\n",
    "    \"\"\"\n",
    "    blocks_list = []\n",
    "    txhash_list = []\n",
    "    timestamp_list = []\n",
    "    median_list = []\n",
    "    \n",
    "    for response in response_list:\n",
    "        blocks = [int(response[i]['blockNumber'],16) for i in range(len(response)) if len(response[i]['data']) == 130]\n",
    "        blocks_list += blocks\n",
    "        txhash = [response[i]['transactionHash'] for i in range(len(response)) if len(response[i]['data']) == 130]\n",
    "        txhash_list += txhash\n",
    "        timestamp = [datetime.fromtimestamp(int(response[i]['timeStamp'],16)) for i in range(len(response)) if len(response[i]['data']) == 130]\n",
    "        timestamp_list += timestamp\n",
    "        median = [round(int(response[i]['data'][:66],16)/1e18,3) for i in range(len(response)) if len(response[i]['data']) == 130]\n",
    "        median_list += median \n",
    "    \n",
    "    df = pd.DataFrame({'blockNumber': blocks_list, 'txhash': txhash_list})\n",
    "    df = df.set_index('blockNumber')\n",
    "    df.sort_values(by = ['blockNumber'], ascending = True, inplace = True)\n",
    "\n",
    "    \"\"\"\n",
    "    Caution: takes very long to run this step - request for Transaction by Hash call\n",
    "    \"\"\"\n",
    "    request_call1 = \"https://api.etherscan.io/api?module=proxy&action=eth_getTransactionByHash&txhash=\"\n",
    "    request_call2 = \"&apikey=\"+My_API_key\n",
    "    tx_raw = [requests.get(request_call1 + each + request_call2) for each in tqdm(df['txhash'])]\n",
    "    \n",
    "    input_data = [raw.json()['result']['input'] for raw in tx_raw]\n",
    "    df['timestamp'] = timestamp_list\n",
    "    df['median'] = median_list\n",
    "    df = df.reset_index()\n",
    "    df = df.set_index('timestamp')\n",
    "\n",
    "    for i in range(13):\n",
    "        val = []\n",
    "        col_name = \"val_\" + str(i+1)\n",
    "        pos = 10 + 64 * (6+i)\n",
    "        val = [round(int(input_data[each][pos : pos+64],16)/1e18,3) for each in range(len(input_data))]\n",
    "        df[col_name] = val\n",
    "    \n",
    "    return df"
   ]
  },
  {
   "cell_type": "markdown",
   "metadata": {},
   "source": [
    "# ETH"
   ]
  },
  {
   "cell_type": "markdown",
   "metadata": {},
   "source": [
    "## Requests to getLogs and getTransactionbyHash"
   ]
  },
  {
   "cell_type": "code",
   "execution_count": 4,
   "metadata": {},
   "outputs": [],
   "source": [
    "block_call = [\"8925057\", \"9473220\", \"9709693\",\"10030025\"]\n",
    "ETH_contract = \"0x64DE91F5A373Cd4c28de3600cB34C7C6cE410C85\"\n",
    "ETH_response_list = []\n",
    "for each in block_call:\n",
    "    ETH_response_ = requests.get(\"https://api.etherscan.io/api?module=logs&action=getLogs&fromBlock=\"+each+\"&toBlock=latest&address=\"+ETH_contract+\"&topic&apikey=\"+My_API_key).json()['result']\n",
    "    ETH_response_list.append(ETH_response_)"
   ]
  },
  {
   "cell_type": "code",
   "execution_count": 5,
   "metadata": {},
   "outputs": [
    {
     "name": "stderr",
     "output_type": "stream",
     "text": [
      "100%|██████████| 3064/3064 [19:28<00:00,  2.62it/s] \n"
     ]
    }
   ],
   "source": [
    "df_ETH_all = create_dataframe(ETH_response_list)"
   ]
  },
  {
   "cell_type": "code",
   "execution_count": 9,
   "metadata": {},
   "outputs": [
    {
     "data": {
      "text/plain": [
       "(3061, 16)"
      ]
     },
     "execution_count": 9,
     "metadata": {},
     "output_type": "execute_result"
    }
   ],
   "source": [
    "df_ETH_all = df_ETH_all.drop_duplicates()\n",
    "df_ETH_all.shape"
   ]
  },
  {
   "cell_type": "markdown",
   "metadata": {},
   "source": [
    "##### Observe: val_7 == median for all 1204 txs, since it's a sorted array"
   ]
  },
  {
   "cell_type": "markdown",
   "metadata": {},
   "source": [
    "## External Disagreement"
   ]
  },
  {
   "cell_type": "code",
   "execution_count": 157,
   "metadata": {},
   "outputs": [],
   "source": [
    "def median_compare(s1,s2, label, ifLog):\n",
    "    \"\"\"\n",
    "    Graph plots the distribution of the difference between the median output from the Maker contract \n",
    "    and the benchbark it's compared against\n",
    "    \"\"\"\n",
    "    diff = s1 - s2\n",
    "    print('mean = {:.2f}, std = {:.2f}, max =  {:.2f}'.format(abs(diff).mean(), abs(diff).std(), abs(diff).max()))\n",
    "    print()\n",
    "    print(diff.loc[diff == diff.min()])\n",
    "    print(diff.loc[diff == diff.max()])\n",
    "    hist = plt.hist(diff, bins = 30, color = \"slategrey\")\n",
    "    if ifLog:\n",
    "        plt.yscale('log')\n",
    "    plt.title(\"Aggregation Differences - {}\".format(label))\n",
    "    plt.savefig(\"Aggregation Differences - {}\".format(label))\n",
    "    plt.grid()\n",
    "    plt.show()"
   ]
  },
  {
   "cell_type": "markdown",
   "metadata": {},
   "source": [
    "#### CryptoCompare CCCAGG"
   ]
  },
  {
   "cell_type": "code",
   "execution_count": 11,
   "metadata": {},
   "outputs": [],
   "source": [
    "def get_CCCAGG(currency, timestamp_call):\n",
    "    \"\"\"\n",
    "    API call to CryptoCompare to get its CCCAGG data series for the respective currency\n",
    "    NOTE: timestamp_call needs to be updated from the latest to the last one needed\n",
    "    - as of currently, set to the latest date is May 10, 2020\n",
    "    \"\"\"\n",
    "    CC_response_list = []\n",
    "    for each in timestamp_call:\n",
    "        CC_ = requests.get(\"https://min-api.cryptocompare.com/data/v2/histohour?fsym=\"+currency+\"&tsym=USD&limit=2000&toTs=\"+each).json()['Data']\n",
    "        CC_response_list.append(CC_)\n",
    "    CC_latest = requests.get(\"https://min-api.cryptocompare.com/data/v2/histohour?fsym=\"+currency+\"&tsym=USD&limit=2000\").json()['Data']\n",
    "    CC_response_list.append(CC_latest)\n",
    "    \n",
    "    CC_list = []\n",
    "    for CC_response in CC_response_list:\n",
    "        #Price series is the average of open and close\n",
    "        CC = [(CC_response['Data'][i]['open'] + CC_response['Data'][i]['close'])/2 for i in range(len(CC_response['Data']))]\n",
    "        CC_list += CC\n",
    "    \n",
    "    timestamp_list = []\n",
    "    for CC_response in CC_response_list:\n",
    "        timestamp = [CC_response['Data'][i]['time'] for i in range(len(CC_response['Data']))]\n",
    "        timestamp_list += timestamp\n",
    "\n",
    "    ccdf = pd.DataFrame({\"time\": timestamp_list, \"average_price\": CC_list})\n",
    "    ccdf.time = ccdf.time.apply(datetime.fromtimestamp)\n",
    "    ccdf.sort_values(by = ['time'], ascending = True, inplace = True)\n",
    "\n",
    "    #remove duplicate entries by column 'time'\n",
    "    ccdf = ccdf.drop_duplicates(subset = 'time', keep = 'last')\n",
    "    ccdf = ccdf.set_index('time')\n",
    "    return ccdf"
   ]
  },
  {
   "cell_type": "code",
   "execution_count": 47,
   "metadata": {},
   "outputs": [],
   "source": [
    "#Creating CryptoCompare dataframe\n",
    "\n",
    "timestamp_call = ['1567555200', '1574755200', '1581955200']\n",
    "ccdf_ETH = get_CCCAGG(\"ETH\", timestamp_call)\n",
    "ccdf_ETH = ccdf_ETH.reindex(df_ETH_all.index, method = 'ffill')"
   ]
  },
  {
   "cell_type": "markdown",
   "metadata": {},
   "source": [
    "#### Creating Winsorized Mean for dfs_ff"
   ]
  },
  {
   "cell_type": "code",
   "execution_count": 13,
   "metadata": {},
   "outputs": [],
   "source": [
    "dfs_ff_winsor_compute = df_ETH_all.loc[:, \"val_1\" : \"val_13\"]\n",
    "winsor = sts.mstats.winsorize(dfs_ff_winsor_compute, limits=[0.05, 0.05], axis = 1)\n",
    "dfs_ff_winsor = pd.DataFrame(np.ma.filled(winsor), index = dfs_ff_winsor_compute.index)\n",
    "dfs_ff_winsor['winsor_mean'] = dfs_ff_winsor.mean(axis = 1, skipna = True).round(3)"
   ]
  },
  {
   "cell_type": "markdown",
   "metadata": {},
   "source": [
    "### Comparing Robust Statistics"
   ]
  },
  {
   "cell_type": "code",
   "execution_count": 158,
   "metadata": {},
   "outputs": [
    {
     "name": "stdout",
     "output_type": "stream",
     "text": [
      "mean = 1.26, std = 1.60, max =  18.86\n",
      "\n",
      "timestamp\n",
      "2020-03-12 19:15:07   -14.215\n",
      "dtype: float64\n",
      "timestamp\n",
      "2020-03-12 20:32:42    18.86\n",
      "dtype: float64\n"
     ]
    },
    {
     "data": {
      "image/png": "[encoded data removed]",
      "text/plain": [
       "<Figure size 460.8x345.6 with 1 Axes>"
      ]
     },
     "metadata": {
      "needs_background": "light"
     },
     "output_type": "display_data"
    },
    {
     "name": "stdout",
     "output_type": "stream",
     "text": [
      "mean = 0.11, std = 0.11, max =  1.06\n",
      "\n",
      "timestamp\n",
      "2020-02-09 21:59:40   -1.065\n",
      "dtype: float64\n",
      "timestamp\n",
      "2020-03-13 12:33:15    0.727\n",
      "dtype: float64\n"
     ]
    },
    {
     "data": {
      "image/png": "[encoded data removed]",
      "text/plain": [
       "<Figure size 460.8x345.6 with 1 Axes>"
      ]
     },
     "metadata": {
      "needs_background": "light"
     },
     "output_type": "display_data"
    }
   ],
   "source": [
    "median_compare(df_ETH_all['median'], ccdf_ETH['average_price'], \"ETH: MCD vs CCCAGG\", True )\n",
    "median_compare(df_ETH_all['median'], dfs_ff_winsor['winsor_mean'], \"ETH: MCD vs Winsorizing\", False )"
   ]
  },
  {
   "cell_type": "code",
   "execution_count": 143,
   "metadata": {},
   "outputs": [
    {
     "data": {
      "text/plain": [
       "0.15294165348903227"
      ]
     },
     "execution_count": 143,
     "metadata": {},
     "output_type": "execute_result"
    }
   ],
   "source": [
    "event = \"2020-03-12 20:32:42\"\n",
    "(df_ETH_all.loc[event][\"median\"] - ccdf_ETH.loc[event]['average_price']) / ccdf_ETH.loc[event]['average_price']"
   ]
  },
  {
   "cell_type": "code",
   "execution_count": 171,
   "metadata": {},
   "outputs": [
    {
     "data": {
      "text/plain": [
       "94.215"
      ]
     },
     "execution_count": 171,
     "metadata": {},
     "output_type": "execute_result"
    }
   ],
   "source": [
    "df_ETH_all.loc[\"2020-03-12 19:15:07\"][\"median\"]"
   ]
  },
  {
   "cell_type": "code",
   "execution_count": 172,
   "metadata": {},
   "outputs": [
    {
     "data": {
      "image/png": "[encoded data removed]",
      "text/plain": [
       "<Figure size 576x432 with 1 Axes>"
      ]
     },
     "metadata": {
      "needs_background": "light"
     },
     "output_type": "display_data"
    }
   ],
   "source": [
    "plt.figure(figsize=(8,6))\n",
    "plt.plot(ccdf_ETH.iloc[1550:1650][\"average_price\"], label = \"CCCAGG\")\n",
    "plt.plot(df_ETH_all.iloc[1550:1650][\"median\"], label = \"MakerDao\")\n",
    "plt.legend()\n",
    "plt.title(\"ETH price on Black Thursday March 12\")\n",
    "plt.savefig(\"Black Thursday March 12: ETH\")\n",
    "plt.show()"
   ]
  },
  {
   "cell_type": "markdown",
   "metadata": {},
   "source": [
    "## Internal Disagreement"
   ]
  },
  {
   "cell_type": "markdown",
   "metadata": {},
   "source": [
    "### Boxplot"
   ]
  },
  {
   "cell_type": "code",
   "execution_count": 15,
   "metadata": {},
   "outputs": [],
   "source": [
    "def get_stats_summary(dfs_dev):\n",
    "    col = list(dfs_dev)\n",
    "    mean = [round(np.mean(dfs_dev[c]),3) for c in col]\n",
    "    sd = [round(np.std(dfs_dev[c]),3) for c in col]\n",
    "    stats = pd.DataFrame({'Feeders': col, \n",
    "                         'mean': mean,\n",
    "                         'standard deviation': sd})\n",
    "    stats = stats.set_index('Feeders')\n",
    "    stats\n",
    "    return stats"
   ]
  },
  {
   "cell_type": "code",
   "execution_count": 169,
   "metadata": {},
   "outputs": [
    {
     "data": {
      "image/png": "[encoded data removed]",
      "text/plain": [
       "<Figure size 1368x720 with 1 Axes>"
      ]
     },
     "metadata": {
      "needs_background": "light"
     },
     "output_type": "display_data"
    }
   ],
   "source": [
    "#Creating the deviation from the median dataframe\n",
    "\n",
    "ETH_dfs_dev = pd.DataFrame(index = df_ETH_all.index)\n",
    "for i in range(13):\n",
    "    # *percentage* deviations from the median are calculated as %\n",
    "    ETH_dfs_dev['val_'+str(i+1)] = (df_ETH_all['val_'+str(i+1)] - df_ETH_all['median'])/df_ETH_all[\"median\"] * 100\n",
    "\n",
    "plt.figure(figsize=(19,10))\n",
    "dfs_dev_bp = ETH_dfs_dev.loc[:,\"val_1\" :  \"val_13\"]\n",
    "dfs_dev_bp.boxplot()\n",
    "plt.title(\"Boxplot: Deviation from the Median - ETH\")\n",
    "plt.savefig(\"MCD Boxplot: Deviation from the Median - ETH\")\n",
    "plt.show()  "
   ]
  },
  {
   "cell_type": "code",
   "execution_count": 17,
   "metadata": {},
   "outputs": [
    {
     "data": {
      "text/html": [
       "<div>\n",
       "<style scoped>\n",
       "    .dataframe tbody tr th:only-of-type {\n",
       "        vertical-align: middle;\n",
       "    }\n",
       "\n",
       "    .dataframe tbody tr th {\n",
       "        vertical-align: top;\n",
       "    }\n",
       "\n",
       "    .dataframe thead th {\n",
       "        text-align: right;\n",
       "    }\n",
       "</style>\n",
       "<table border=\"1\" class=\"dataframe\">\n",
       "  <thead>\n",
       "    <tr style=\"text-align: right;\">\n",
       "      <th></th>\n",
       "      <th>mean</th>\n",
       "      <th>standard deviation</th>\n",
       "    </tr>\n",
       "    <tr>\n",
       "      <th>Feeders</th>\n",
       "      <th></th>\n",
       "      <th></th>\n",
       "    </tr>\n",
       "  </thead>\n",
       "  <tbody>\n",
       "    <tr>\n",
       "      <th>val_1</th>\n",
       "      <td>-0.305</td>\n",
       "      <td>0.279</td>\n",
       "    </tr>\n",
       "    <tr>\n",
       "      <th>val_2</th>\n",
       "      <td>-0.231</td>\n",
       "      <td>0.224</td>\n",
       "    </tr>\n",
       "    <tr>\n",
       "      <th>val_3</th>\n",
       "      <td>-0.177</td>\n",
       "      <td>0.190</td>\n",
       "    </tr>\n",
       "    <tr>\n",
       "      <th>val_4</th>\n",
       "      <td>-0.131</td>\n",
       "      <td>0.159</td>\n",
       "    </tr>\n",
       "    <tr>\n",
       "      <th>val_5</th>\n",
       "      <td>-0.088</td>\n",
       "      <td>0.125</td>\n",
       "    </tr>\n",
       "    <tr>\n",
       "      <th>val_6</th>\n",
       "      <td>-0.044</td>\n",
       "      <td>0.081</td>\n",
       "    </tr>\n",
       "    <tr>\n",
       "      <th>val_7</th>\n",
       "      <td>0.000</td>\n",
       "      <td>0.000</td>\n",
       "    </tr>\n",
       "    <tr>\n",
       "      <th>val_8</th>\n",
       "      <td>0.042</td>\n",
       "      <td>0.083</td>\n",
       "    </tr>\n",
       "    <tr>\n",
       "      <th>val_9</th>\n",
       "      <td>0.085</td>\n",
       "      <td>0.130</td>\n",
       "    </tr>\n",
       "    <tr>\n",
       "      <th>val_10</th>\n",
       "      <td>0.127</td>\n",
       "      <td>0.165</td>\n",
       "    </tr>\n",
       "    <tr>\n",
       "      <th>val_11</th>\n",
       "      <td>0.172</td>\n",
       "      <td>0.197</td>\n",
       "    </tr>\n",
       "    <tr>\n",
       "      <th>val_12</th>\n",
       "      <td>0.224</td>\n",
       "      <td>0.235</td>\n",
       "    </tr>\n",
       "    <tr>\n",
       "      <th>val_13</th>\n",
       "      <td>0.295</td>\n",
       "      <td>0.297</td>\n",
       "    </tr>\n",
       "  </tbody>\n",
       "</table>\n",
       "</div>"
      ],
      "text/plain": [
       "          mean  standard deviation\n",
       "Feeders                           \n",
       "val_1   -0.305               0.279\n",
       "val_2   -0.231               0.224\n",
       "val_3   -0.177               0.190\n",
       "val_4   -0.131               0.159\n",
       "val_5   -0.088               0.125\n",
       "val_6   -0.044               0.081\n",
       "val_7    0.000               0.000\n",
       "val_8    0.042               0.083\n",
       "val_9    0.085               0.130\n",
       "val_10   0.127               0.165\n",
       "val_11   0.172               0.197\n",
       "val_12   0.224               0.235\n",
       "val_13   0.295               0.297"
      ]
     },
     "execution_count": 17,
     "metadata": {},
     "output_type": "execute_result"
    }
   ],
   "source": [
    "#Getting the stats table\n",
    "\n",
    "ETH_stats = get_stats_summary(ETH_dfs_dev)\n",
    "ETH_stats"
   ]
  },
  {
   "cell_type": "markdown",
   "metadata": {},
   "source": [
    "# BAT"
   ]
  },
  {
   "cell_type": "code",
   "execution_count": 18,
   "metadata": {},
   "outputs": [],
   "source": [
    "block_call = [\"8925076\", \"9326929\", \"9659662\",\"9909134\"]\n",
    "BATcontract = \"0x18B4633D6E39870f398597f3c1bA8c4A41294966\"\n",
    "BAT_response_list = []\n",
    "for each in block_call:\n",
    "    response = requests.get(\"https://api.etherscan.io/api?module=logs&action=getLogs&fromBlock=\"+each+\"&toBlock=latest&address=\"+BATcontract+\"&topic&apikey=\"+My_API_key).json()['result']\n",
    "    BAT_response_list.append(response)"
   ]
  },
  {
   "cell_type": "code",
   "execution_count": 19,
   "metadata": {},
   "outputs": [
    {
     "name": "stderr",
     "output_type": "stream",
     "text": [
      "100%|██████████| 3372/3372 [20:52<00:00,  2.69it/s] \n"
     ]
    }
   ],
   "source": [
    "df_BAT = create_dataframe(BAT_response_list)"
   ]
  },
  {
   "cell_type": "code",
   "execution_count": 22,
   "metadata": {},
   "outputs": [
    {
     "data": {
      "text/plain": [
       "(3370, 16)"
      ]
     },
     "execution_count": 22,
     "metadata": {},
     "output_type": "execute_result"
    }
   ],
   "source": [
    "df_BAT = df_BAT.drop_duplicates()\n",
    "df_BAT.shape"
   ]
  },
  {
   "cell_type": "markdown",
   "metadata": {},
   "source": [
    "## External Disagreement"
   ]
  },
  {
   "cell_type": "markdown",
   "metadata": {},
   "source": [
    "#### CryptoCompare CCCAGG"
   ]
  },
  {
   "cell_type": "code",
   "execution_count": 144,
   "metadata": {},
   "outputs": [],
   "source": [
    "timestamp_call = ['1567555200', '1574755200', '1581955200']\n",
    "ccdf_BAT = get_CCCAGG(\"BAT\", timestamp_call)\n",
    "ccdf_BAT = ccdf_BAT.reindex(df_BAT.index, method = 'ffill')"
   ]
  },
  {
   "cell_type": "code",
   "execution_count": 160,
   "metadata": {},
   "outputs": [
    {
     "name": "stdout",
     "output_type": "stream",
     "text": [
      "mean = 0.00, std = 0.00, max =  0.02\n",
      "\n",
      "timestamp\n",
      "2020-03-12 19:27:44   -0.01875\n",
      "dtype: float64\n",
      "timestamp\n",
      "2020-02-17 23:54:29    0.0206\n",
      "dtype: float64\n"
     ]
    },
    {
     "data": {
      "image/png": "[encoded data removed]",
      "text/plain": [
       "<Figure size 460.8x345.6 with 1 Axes>"
      ]
     },
     "metadata": {
      "needs_background": "light"
     },
     "output_type": "display_data"
    }
   ],
   "source": [
    "median_compare(df_BAT['median'], ccdf_BAT['average_price'], \"BAT: MCD vs CCCAGG\", True )"
   ]
  },
  {
   "cell_type": "markdown",
   "metadata": {},
   "source": [
    "## Internal Disagreement"
   ]
  },
  {
   "cell_type": "markdown",
   "metadata": {},
   "source": [
    "### Boxplot"
   ]
  },
  {
   "cell_type": "code",
   "execution_count": 162,
   "metadata": {},
   "outputs": [
    {
     "data": {
      "image/png": "[encoded data removed]",
      "text/plain": [
       "<Figure size 1368x720 with 1 Axes>"
      ]
     },
     "metadata": {
      "needs_background": "light"
     },
     "output_type": "display_data"
    }
   ],
   "source": [
    "BAT_dfs_dev = pd.DataFrame(index = df_BAT.index)\n",
    "for i in range(13):\n",
    "    # *percentage* deviations from the median are calculated as %\n",
    "    BAT_dfs_dev['val_'+str(i+1)] = (df_BAT['val_'+str(i+1)] - df_BAT['median'])/df_BAT[\"median\"] * 100\n",
    "\n",
    "plt.figure(figsize=(19,10))\n",
    "BAT_dfs_dev_bp = BAT_dfs_dev.loc[:,\"val_1\" :  \"val_13\"]\n",
    "BAT_dfs_dev_bp.boxplot()\n",
    "plt.title(\"Boxplot: Deviation from the Median - BAT\")\n",
    "plt.savefig(\"MCD Boxplot: Deviation from the Median - BAT\")\n",
    "plt.show()  "
   ]
  },
  {
   "cell_type": "code",
   "execution_count": 26,
   "metadata": {},
   "outputs": [
    {
     "data": {
      "text/html": [
       "<div>\n",
       "<style scoped>\n",
       "    .dataframe tbody tr th:only-of-type {\n",
       "        vertical-align: middle;\n",
       "    }\n",
       "\n",
       "    .dataframe tbody tr th {\n",
       "        vertical-align: top;\n",
       "    }\n",
       "\n",
       "    .dataframe thead th {\n",
       "        text-align: right;\n",
       "    }\n",
       "</style>\n",
       "<table border=\"1\" class=\"dataframe\">\n",
       "  <thead>\n",
       "    <tr style=\"text-align: right;\">\n",
       "      <th></th>\n",
       "      <th>mean</th>\n",
       "      <th>standard deviation</th>\n",
       "    </tr>\n",
       "    <tr>\n",
       "      <th>Feeders</th>\n",
       "      <th></th>\n",
       "      <th></th>\n",
       "    </tr>\n",
       "  </thead>\n",
       "  <tbody>\n",
       "    <tr>\n",
       "      <th>val_1</th>\n",
       "      <td>-0.693</td>\n",
       "      <td>1.956</td>\n",
       "    </tr>\n",
       "    <tr>\n",
       "      <th>val_2</th>\n",
       "      <td>-0.297</td>\n",
       "      <td>0.469</td>\n",
       "    </tr>\n",
       "    <tr>\n",
       "      <th>val_3</th>\n",
       "      <td>-0.207</td>\n",
       "      <td>0.358</td>\n",
       "    </tr>\n",
       "    <tr>\n",
       "      <th>val_4</th>\n",
       "      <td>-0.146</td>\n",
       "      <td>0.294</td>\n",
       "    </tr>\n",
       "    <tr>\n",
       "      <th>val_5</th>\n",
       "      <td>-0.098</td>\n",
       "      <td>0.245</td>\n",
       "    </tr>\n",
       "    <tr>\n",
       "      <th>val_6</th>\n",
       "      <td>-0.048</td>\n",
       "      <td>0.170</td>\n",
       "    </tr>\n",
       "    <tr>\n",
       "      <th>val_7</th>\n",
       "      <td>0.000</td>\n",
       "      <td>0.034</td>\n",
       "    </tr>\n",
       "    <tr>\n",
       "      <th>val_8</th>\n",
       "      <td>0.055</td>\n",
       "      <td>0.189</td>\n",
       "    </tr>\n",
       "    <tr>\n",
       "      <th>val_9</th>\n",
       "      <td>0.109</td>\n",
       "      <td>0.256</td>\n",
       "    </tr>\n",
       "    <tr>\n",
       "      <th>val_10</th>\n",
       "      <td>0.161</td>\n",
       "      <td>0.310</td>\n",
       "    </tr>\n",
       "    <tr>\n",
       "      <th>val_11</th>\n",
       "      <td>0.225</td>\n",
       "      <td>0.369</td>\n",
       "    </tr>\n",
       "    <tr>\n",
       "      <th>val_12</th>\n",
       "      <td>0.322</td>\n",
       "      <td>0.613</td>\n",
       "    </tr>\n",
       "    <tr>\n",
       "      <th>val_13</th>\n",
       "      <td>1.167</td>\n",
       "      <td>2.362</td>\n",
       "    </tr>\n",
       "  </tbody>\n",
       "</table>\n",
       "</div>"
      ],
      "text/plain": [
       "          mean  standard deviation\n",
       "Feeders                           \n",
       "val_1   -0.693               1.956\n",
       "val_2   -0.297               0.469\n",
       "val_3   -0.207               0.358\n",
       "val_4   -0.146               0.294\n",
       "val_5   -0.098               0.245\n",
       "val_6   -0.048               0.170\n",
       "val_7    0.000               0.034\n",
       "val_8    0.055               0.189\n",
       "val_9    0.109               0.256\n",
       "val_10   0.161               0.310\n",
       "val_11   0.225               0.369\n",
       "val_12   0.322               0.613\n",
       "val_13   1.167               2.362"
      ]
     },
     "execution_count": 26,
     "metadata": {},
     "output_type": "execute_result"
    }
   ],
   "source": [
    "BAT_stats = get_stats_summary(BAT_dfs_dev)\n",
    "BAT_stats"
   ]
  }
 ],
 "metadata": {
  "kernelspec": {
   "display_name": "Python 3",
   "language": "python",
   "name": "python3"
  },
  "language_info": {
   "codemirror_mode": {
    "name": "ipython",
    "version": 3
   },
   "file_extension": ".py",
   "mimetype": "text/x-python",
   "name": "python",
   "nbconvert_exporter": "python",
   "pygments_lexer": "ipython3",
   "version": "3.7.4"
  }
 },
 "nbformat": 4,
 "nbformat_minor": 4
}
