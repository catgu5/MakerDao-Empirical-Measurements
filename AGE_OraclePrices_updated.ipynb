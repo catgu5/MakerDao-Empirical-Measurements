{
 "cells": [
  {
   "cell_type": "markdown",
   "metadata": {},
   "source": [
    "## Blockchain Research: Oracle Attack\n",
    "### Catherine Gu wcgu@stanford.edu, Stanford University"
   ]
  },
  {
   "cell_type": "code",
   "execution_count": 1,
   "metadata": {},
   "outputs": [],
   "source": [
    "import json\n",
    "import math\n",
    "import numpy as np\n",
    "import pandas as pd\n",
    "import matplotlib.pyplot as plt\n",
    "from datetime import datetime, timedelta\n",
    "import os\n",
    "import plotly.plotly as py\n",
    "import plotly.graph_objs as go\n",
    "from tqdm import tqdm\n",
    "from functools import reduce\n",
    "import scipy.stats as sts"
   ]
  },
  {
   "cell_type": "code",
   "execution_count": 2,
   "metadata": {},
   "outputs": [],
   "source": [
    "cwd = os.getcwd()"
   ]
  },
  {
   "cell_type": "code",
   "execution_count": 3,
   "metadata": {},
   "outputs": [],
   "source": [
    "def error_check(j):\n",
    "    timeStamp = [int(each['timeStamp'],16) for each in j]\n",
    "    block = [int(each['blockNumber'],16) for each in j]\n",
    "    count = 0\n",
    "    count_error = 0\n",
    "    for each in j:\n",
    "        if len(each['topics']) == 4:\n",
    "            count += 1\n",
    "        else:\n",
    "            count_error += 1\n",
    "    print(count, count_error)\n",
    "\n",
    "    \n",
    "def check_boolean_is_false(j):\n",
    "    count = 0\n",
    "    for each in j:\n",
    "        timeStamp = int(each['timeStamp'],16)\n",
    "        if len(each['topics']) == 4:\n",
    "            zzz = int(each['topics'][3][-8:],16)\n",
    "            if timeStamp > zzz:\n",
    "                count += 1\n",
    "    print(count)"
   ]
  },
  {
   "cell_type": "code",
   "execution_count": 4,
   "metadata": {},
   "outputs": [],
   "source": [
    "files = []\n",
    "cwd = os.getcwd()\n",
    "for i in range(14):\n",
    "    filename = str(cwd + '/' + str(i+1) + '/out')\n",
    "    j = json.load(open(filename))['result']\n",
    "#     print(\"How many booleans return False, i.e. now > zzz\"), check_boolean_is_false(j)\n",
    "#     print(\"No of price reported, number of price not reported\"), print(len(j)), error_check(j)"
   ]
  },
  {
   "cell_type": "raw",
   "metadata": {},
   "source": [
    "#Populate dataframe using raw data, no forward fill: only check if now < zzz\n",
    "'''\n",
    "Not using the dataset here\n",
    "'''\n",
    "def new_get_dataframe(i,j):\n",
    "    timeStamp = []\n",
    "    block = []\n",
    "    prices = []\n",
    "    age = []\n",
    "    for each in j:\n",
    "        if len(each['topics']) == 4:\n",
    "            each_block = int(each['blockNumber'],16)\n",
    "            each_timeStamp = datetime.fromtimestamp(int(each['timeStamp'],16))\n",
    "            zzz = datetime.fromtimestamp(int(each['topics'][3][-8:],16))\n",
    "            \n",
    "            if each_timeStamp < zzz:\n",
    "                each_age = zzz - each_timeStamp\n",
    "                age.append(each_age.seconds / 3600) #convert to diff in hours\n",
    "                timeStamp.append(each_timeStamp)\n",
    "                block.append(each_block)\n",
    "                prices.append(int(each['topics'][2],16))\n",
    "    df = pd.DataFrame(list(zip(block, timeStamp,prices, age)), \n",
    "               columns =['blockNumber', 'timeStamp','Feeder_'+ str(i+1), 'Age_'+str(i+1)]) \n",
    "    df = df.set_index('blockNumber')\n",
    "    df['Feeder_'+ str(i+1)] = df['Feeder_'+ str(i+1)].apply(lambda x: x / 10e17)\n",
    "    df = df[df!=0]\n",
    "    df.sort_values(by = ['timeStamp'], ascending = False, inplace = True)\n",
    "    df.to_csv('feederdata_'+str(i+1))\n",
    "    return df"
   ]
  },
  {
   "cell_type": "code",
   "execution_count": 5,
   "metadata": {},
   "outputs": [],
   "source": [
    "def get_number(feeder):\n",
    "    list_0_3 = ['14']\n",
    "    list_0_4 = ['3', '4', '5', '10', '11', '13']\n",
    "    list_0_5 = ['1', '2', '7',]\n",
    "    list_0_6 = ['9', '12']\n",
    "    list_0_7 = ['8']\n",
    "    list_0_8 = ['6']\n",
    "    if feeder in list_0_3:\n",
    "        return 4;\n",
    "    if feeder in list_0_4:\n",
    "        return 5;\n",
    "    if feeder in list_0_5:\n",
    "        return 6;\n",
    "    if feeder in list_0_6:\n",
    "        return 7;\n",
    "    if feeder in list_0_7:\n",
    "        return 8;\n",
    "    if feeder in list_0_8:\n",
    "        return 9;\n",
    "    return 0"
   ]
  },
  {
   "cell_type": "code",
   "execution_count": 6,
   "metadata": {},
   "outputs": [],
   "source": [
    "def create_dataframe(feeder, apifile):\n",
    "    j = json.load(open(apifile))['result']\n",
    "    timeStamp = []\n",
    "    block = []\n",
    "    prices = []\n",
    "    expire = []\n",
    "    for each in j:\n",
    "        if len(each['topics']) == 4:\n",
    "            each_block = int(each['blockNumber'],16)\n",
    "            each_timeStamp = datetime.fromtimestamp(int(each['timeStamp'],16))\n",
    "            zzz = datetime.fromtimestamp(int(each['topics'][3][-8:],16))\n",
    "\n",
    "            if each_timeStamp < zzz:\n",
    "                each_expire = zzz - each_timeStamp\n",
    "                expire.append(each_expire.seconds / 3600) #convert to diff in hours\n",
    "                timeStamp.append(each_timeStamp)\n",
    "                block.append(each_block)\n",
    "                prices.append(int(each['topics'][2],16))\n",
    "    df = pd.DataFrame(list(zip(block, timeStamp,prices, expire)), \n",
    "               columns =['blockNumber_' + feeder, 'timeStamp','Feeder_'+ feeder, 'Expire_'+ feeder]) \n",
    "#     df = df.set_index('blockNumber')\n",
    "    df['Feeder_'+ feeder] = df['Feeder_'+ feeder].apply(lambda x: x / 10e17)\n",
    "    df = df[df!=0]\n",
    "    return df"
   ]
  },
  {
   "cell_type": "code",
   "execution_count": 7,
   "metadata": {},
   "outputs": [],
   "source": [
    "def populate(feeder, number):\n",
    "    df_list = []\n",
    "    for n in reversed(range(number)):\n",
    "        apifile = str(cwd + '/' + feeder + '/api' + str(n))\n",
    "        sub = create_dataframe(feeder, apifile)\n",
    "        df_list.append(sub)\n",
    "    df = df_list[0]\n",
    "    for x in range(1, len(df_list)):\n",
    "        df = df.append(df_list[x])\n",
    "    df = df.drop_duplicates()\n",
    "    df.sort_values(by = ['timeStamp'], ascending = True, inplace = True)\n",
    "    return df"
   ]
  },
  {
   "cell_type": "code",
   "execution_count": 8,
   "metadata": {},
   "outputs": [],
   "source": [
    "fs = np.arange(1,15)\n",
    "files = []\n",
    "for f in fs:\n",
    "    n = get_number(str(f))\n",
    "    df = populate(str(f), n)\n",
    "    files.append(df)"
   ]
  },
  {
   "cell_type": "markdown",
   "metadata": {},
   "source": [
    "### Creating dfs_raw: No Forward Fill"
   ]
  },
  {
   "cell_type": "code",
   "execution_count": 9,
   "metadata": {},
   "outputs": [],
   "source": [
    "dfs_raw = files[0].merge(files[1], how = 'outer', sort = True)\n",
    "for i in range(2,14):\n",
    "    dfs_raw = dfs_raw.merge(files[i], how = 'outer', sort = True)\n",
    "    \n",
    "for i in range(1,15):\n",
    "    dfs_raw['Expire_'+str(i)] = dfs_raw['Expire_'+str(i)].round(0)\n",
    "\n",
    "dfs_raw['timeStamp'] = dfs_raw.timeStamp.apply(lambda x: x.replace(second = 0, minute = 0) + timedelta(hours = 1))\n",
    "dfs_raw = dfs_raw.groupby('timeStamp').last()"
   ]
  },
  {
   "cell_type": "code",
   "execution_count": 10,
   "metadata": {},
   "outputs": [
    {
     "data": {
      "text/html": [
       "<div>\n",
       "<style scoped>\n",
       "    .dataframe tbody tr th:only-of-type {\n",
       "        vertical-align: middle;\n",
       "    }\n",
       "\n",
       "    .dataframe tbody tr th {\n",
       "        vertical-align: top;\n",
       "    }\n",
       "\n",
       "    .dataframe thead th {\n",
       "        text-align: right;\n",
       "    }\n",
       "</style>\n",
       "<table border=\"1\" class=\"dataframe\">\n",
       "  <thead>\n",
       "    <tr style=\"text-align: right;\">\n",
       "      <th></th>\n",
       "      <th>blockNumber_1</th>\n",
       "      <th>Feeder_1</th>\n",
       "      <th>Expire_1</th>\n",
       "      <th>blockNumber_2</th>\n",
       "      <th>Feeder_2</th>\n",
       "      <th>Expire_2</th>\n",
       "      <th>blockNumber_3</th>\n",
       "      <th>Feeder_3</th>\n",
       "      <th>Expire_3</th>\n",
       "      <th>blockNumber_4</th>\n",
       "      <th>...</th>\n",
       "      <th>Expire_11</th>\n",
       "      <th>blockNumber_12</th>\n",
       "      <th>Feeder_12</th>\n",
       "      <th>Expire_12</th>\n",
       "      <th>blockNumber_13</th>\n",
       "      <th>Feeder_13</th>\n",
       "      <th>Expire_13</th>\n",
       "      <th>blockNumber_14</th>\n",
       "      <th>Feeder_14</th>\n",
       "      <th>Expire_14</th>\n",
       "    </tr>\n",
       "    <tr>\n",
       "      <th>timeStamp</th>\n",
       "      <th></th>\n",
       "      <th></th>\n",
       "      <th></th>\n",
       "      <th></th>\n",
       "      <th></th>\n",
       "      <th></th>\n",
       "      <th></th>\n",
       "      <th></th>\n",
       "      <th></th>\n",
       "      <th></th>\n",
       "      <th></th>\n",
       "      <th></th>\n",
       "      <th></th>\n",
       "      <th></th>\n",
       "      <th></th>\n",
       "      <th></th>\n",
       "      <th></th>\n",
       "      <th></th>\n",
       "      <th></th>\n",
       "      <th></th>\n",
       "      <th></th>\n",
       "    </tr>\n",
       "  </thead>\n",
       "  <tbody>\n",
       "    <tr>\n",
       "      <th>2019-05-17 19:00:00</th>\n",
       "      <td>7781283.0</td>\n",
       "      <td>239.04</td>\n",
       "      <td>12.0</td>\n",
       "      <td>NaN</td>\n",
       "      <td>NaN</td>\n",
       "      <td>NaN</td>\n",
       "      <td>NaN</td>\n",
       "      <td>NaN</td>\n",
       "      <td>NaN</td>\n",
       "      <td>NaN</td>\n",
       "      <td>...</td>\n",
       "      <td>12.0</td>\n",
       "      <td>NaN</td>\n",
       "      <td>NaN</td>\n",
       "      <td>NaN</td>\n",
       "      <td>NaN</td>\n",
       "      <td>NaN</td>\n",
       "      <td>NaN</td>\n",
       "      <td>NaN</td>\n",
       "      <td>NaN</td>\n",
       "      <td>NaN</td>\n",
       "    </tr>\n",
       "    <tr>\n",
       "      <th>2019-05-17 20:00:00</th>\n",
       "      <td>NaN</td>\n",
       "      <td>NaN</td>\n",
       "      <td>NaN</td>\n",
       "      <td>NaN</td>\n",
       "      <td>NaN</td>\n",
       "      <td>NaN</td>\n",
       "      <td>7781371.0</td>\n",
       "      <td>241.090</td>\n",
       "      <td>12.0</td>\n",
       "      <td>NaN</td>\n",
       "      <td>...</td>\n",
       "      <td>NaN</td>\n",
       "      <td>NaN</td>\n",
       "      <td>NaN</td>\n",
       "      <td>NaN</td>\n",
       "      <td>NaN</td>\n",
       "      <td>NaN</td>\n",
       "      <td>NaN</td>\n",
       "      <td>NaN</td>\n",
       "      <td>NaN</td>\n",
       "      <td>NaN</td>\n",
       "    </tr>\n",
       "    <tr>\n",
       "      <th>2019-05-17 21:00:00</th>\n",
       "      <td>7781742.0</td>\n",
       "      <td>244.14</td>\n",
       "      <td>12.0</td>\n",
       "      <td>NaN</td>\n",
       "      <td>NaN</td>\n",
       "      <td>NaN</td>\n",
       "      <td>7781724.0</td>\n",
       "      <td>243.585</td>\n",
       "      <td>12.0</td>\n",
       "      <td>NaN</td>\n",
       "      <td>...</td>\n",
       "      <td>12.0</td>\n",
       "      <td>NaN</td>\n",
       "      <td>NaN</td>\n",
       "      <td>NaN</td>\n",
       "      <td>NaN</td>\n",
       "      <td>NaN</td>\n",
       "      <td>NaN</td>\n",
       "      <td>NaN</td>\n",
       "      <td>NaN</td>\n",
       "      <td>NaN</td>\n",
       "    </tr>\n",
       "    <tr>\n",
       "      <th>2019-05-17 22:00:00</th>\n",
       "      <td>NaN</td>\n",
       "      <td>NaN</td>\n",
       "      <td>NaN</td>\n",
       "      <td>NaN</td>\n",
       "      <td>NaN</td>\n",
       "      <td>NaN</td>\n",
       "      <td>7782164.0</td>\n",
       "      <td>243.460</td>\n",
       "      <td>12.0</td>\n",
       "      <td>NaN</td>\n",
       "      <td>...</td>\n",
       "      <td>NaN</td>\n",
       "      <td>NaN</td>\n",
       "      <td>NaN</td>\n",
       "      <td>NaN</td>\n",
       "      <td>NaN</td>\n",
       "      <td>NaN</td>\n",
       "      <td>NaN</td>\n",
       "      <td>NaN</td>\n",
       "      <td>NaN</td>\n",
       "      <td>NaN</td>\n",
       "    </tr>\n",
       "    <tr>\n",
       "      <th>2019-05-17 23:00:00</th>\n",
       "      <td>NaN</td>\n",
       "      <td>NaN</td>\n",
       "      <td>NaN</td>\n",
       "      <td>NaN</td>\n",
       "      <td>NaN</td>\n",
       "      <td>NaN</td>\n",
       "      <td>NaN</td>\n",
       "      <td>NaN</td>\n",
       "      <td>NaN</td>\n",
       "      <td>NaN</td>\n",
       "      <td>...</td>\n",
       "      <td>NaN</td>\n",
       "      <td>NaN</td>\n",
       "      <td>NaN</td>\n",
       "      <td>NaN</td>\n",
       "      <td>NaN</td>\n",
       "      <td>NaN</td>\n",
       "      <td>NaN</td>\n",
       "      <td>NaN</td>\n",
       "      <td>NaN</td>\n",
       "      <td>NaN</td>\n",
       "    </tr>\n",
       "  </tbody>\n",
       "</table>\n",
       "<p>5 rows × 42 columns</p>\n",
       "</div>"
      ],
      "text/plain": [
       "                     blockNumber_1  Feeder_1  Expire_1  blockNumber_2  \\\n",
       "timeStamp                                                               \n",
       "2019-05-17 19:00:00      7781283.0    239.04      12.0            NaN   \n",
       "2019-05-17 20:00:00            NaN       NaN       NaN            NaN   \n",
       "2019-05-17 21:00:00      7781742.0    244.14      12.0            NaN   \n",
       "2019-05-17 22:00:00            NaN       NaN       NaN            NaN   \n",
       "2019-05-17 23:00:00            NaN       NaN       NaN            NaN   \n",
       "\n",
       "                     Feeder_2  Expire_2  blockNumber_3  Feeder_3  Expire_3  \\\n",
       "timeStamp                                                                    \n",
       "2019-05-17 19:00:00       NaN       NaN            NaN       NaN       NaN   \n",
       "2019-05-17 20:00:00       NaN       NaN      7781371.0   241.090      12.0   \n",
       "2019-05-17 21:00:00       NaN       NaN      7781724.0   243.585      12.0   \n",
       "2019-05-17 22:00:00       NaN       NaN      7782164.0   243.460      12.0   \n",
       "2019-05-17 23:00:00       NaN       NaN            NaN       NaN       NaN   \n",
       "\n",
       "                     blockNumber_4  ...  Expire_11  blockNumber_12  Feeder_12  \\\n",
       "timeStamp                           ...                                         \n",
       "2019-05-17 19:00:00            NaN  ...       12.0             NaN        NaN   \n",
       "2019-05-17 20:00:00            NaN  ...        NaN             NaN        NaN   \n",
       "2019-05-17 21:00:00            NaN  ...       12.0             NaN        NaN   \n",
       "2019-05-17 22:00:00            NaN  ...        NaN             NaN        NaN   \n",
       "2019-05-17 23:00:00            NaN  ...        NaN             NaN        NaN   \n",
       "\n",
       "                     Expire_12  blockNumber_13  Feeder_13  Expire_13  \\\n",
       "timeStamp                                                              \n",
       "2019-05-17 19:00:00        NaN             NaN        NaN        NaN   \n",
       "2019-05-17 20:00:00        NaN             NaN        NaN        NaN   \n",
       "2019-05-17 21:00:00        NaN             NaN        NaN        NaN   \n",
       "2019-05-17 22:00:00        NaN             NaN        NaN        NaN   \n",
       "2019-05-17 23:00:00        NaN             NaN        NaN        NaN   \n",
       "\n",
       "                     blockNumber_14  Feeder_14  Expire_14  \n",
       "timeStamp                                                  \n",
       "2019-05-17 19:00:00             NaN        NaN        NaN  \n",
       "2019-05-17 20:00:00             NaN        NaN        NaN  \n",
       "2019-05-17 21:00:00             NaN        NaN        NaN  \n",
       "2019-05-17 22:00:00             NaN        NaN        NaN  \n",
       "2019-05-17 23:00:00             NaN        NaN        NaN  \n",
       "\n",
       "[5 rows x 42 columns]"
      ]
     },
     "execution_count": 10,
     "metadata": {},
     "output_type": "execute_result"
    }
   ],
   "source": [
    "myrange = dfs_raw.loc['2019-05-18 00:00:00':'2019-09-17 15:00:00'].index\n",
    "dfs_raw = dfs_raw.drop(index = myrange)\n",
    "dfs_raw.tail()"
   ]
  },
  {
   "cell_type": "markdown",
   "metadata": {},
   "source": [
    "### Creating dfs_ff: Forward Fill by Age"
   ]
  },
  {
   "cell_type": "code",
   "execution_count": 11,
   "metadata": {},
   "outputs": [],
   "source": [
    "dfs_ff = dfs_raw.copy(deep = True)"
   ]
  },
  {
   "cell_type": "code",
   "execution_count": 12,
   "metadata": {},
   "outputs": [],
   "source": [
    "def can_forward_fill_next(current_row, feeder, raw_data):\n",
    "    current_price_value = raw_data.iloc[current_row][\"Feeder_\" + str(feeder)]\n",
    "    next_price_value = raw_data.iloc[current_row + 1][\"Feeder_\" + str(feeder)]\n",
    "    current_price_age = raw_data.iloc[current_row][\"Expire_\" + str(feeder)]\n",
    "    if np.isnan(current_price_value) == False and np.isnan(next_price_value) == True:\n",
    "        #Maker's condition where bool = True if now < zzz \n",
    "        if current_price_age > 0:\n",
    "            return True\n",
    "        else: \n",
    "            return False\n",
    "    return False"
   ]
  },
  {
   "cell_type": "code",
   "execution_count": 13,
   "metadata": {},
   "outputs": [
    {
     "data": {
      "text/plain": [
       "'\\nNote there might be some edge cases when Age is between 1 and 0: since we rounded to the hour\\nso sometimes when in reality Medianizer may not include a price in its computation we would, \\nas are rounded to the nearest hour. E.g.: dfs_ff.iloc[990:1020]\\n'"
      ]
     },
     "execution_count": 13,
     "metadata": {},
     "output_type": "execute_result"
    }
   ],
   "source": [
    "for row in range(0,len(dfs_ff.index) - 1):\n",
    "    for i in range(1,15):\n",
    "        if can_forward_fill_next(row, i, dfs_ff):\n",
    "            #forward fill next row value using current row value\n",
    "            dfs_ff.iloc[row + 1][\"Feeder_\"+str(i)] = dfs_ff.iloc[row][\"Feeder_\"+str(i)] \n",
    "            #decrement expiry by one hour\n",
    "            dfs_ff.iloc[row + 1][\"Expire_\"+str(i)] = dfs_ff.iloc[row][\"Expire_\"+str(i)] - 1\n",
    "\n",
    "'''\n",
    "Note there might be some edge cases when Age is between 1 and 0: since we rounded to the hour\n",
    "so sometimes when in reality Medianizer may not include a price in its computation we would, \n",
    "as are rounded to the nearest hour. E.g.: dfs_ff.iloc[990:1020]\n",
    "'''"
   ]
  },
  {
   "cell_type": "code",
   "execution_count": 14,
   "metadata": {},
   "outputs": [],
   "source": [
    "df_main = dfs_ff.copy(deep = True)\n",
    "df_main = df_main.reset_index()"
   ]
  },
  {
   "cell_type": "code",
   "execution_count": 16,
   "metadata": {},
   "outputs": [],
   "source": [
    "def extract_dataframe(df, feeder):\n",
    "    result = df.loc[:, [\"timeStamp\", \"blockNumber_\" + str(feeder), \"Feeder_\" + str(feeder), \"Expire_\" + str(feeder)]]\n",
    "    return result"
   ]
  },
  {
   "cell_type": "code",
   "execution_count": 17,
   "metadata": {},
   "outputs": [],
   "source": [
    "datastore = []\n",
    "for i in range(14):\n",
    "    f = extract_dataframe(df_main, i+1)\n",
    "    expired = f['Expire_' + str(i+1)].isin(['0'])\n",
    "    f['blockNumber_'+str(i+1)] = f[~expired]['blockNumber_'+str(i+1)].ffill()\n",
    "    result = f.merge(files[i], how = 'left', left_on='blockNumber_'+str(i+1), right_on='blockNumber_'+str(i+1))\n",
    "    result.drop(columns = ['Feeder_'+str(i+1)+'_y','Expire_'+str(i+1)+'_y'])\n",
    "    result['Age_'+str(i+1)] = (result.timeStamp_x - result.timeStamp_y).dt.components.hours\n",
    "    result = result.set_index('timeStamp_x')\n",
    "    datastore.append(result)"
   ]
  },
  {
   "cell_type": "code",
   "execution_count": 18,
   "metadata": {},
   "outputs": [],
   "source": [
    "df_Age = pd.DataFrame(index = datastore[0].index)\n",
    "for i in range(14):\n",
    "    df_Age[\"Feeder_\"+str(i+1)] = datastore[i]['Age_'+str(i+1)]"
   ]
  },
  {
   "cell_type": "code",
   "execution_count": 19,
   "metadata": {},
   "outputs": [
    {
     "data": {
      "image/png": "[encoded data removed]",
      "text/plain": [
       "<Figure size 432x288 with 1 Axes>"
      ]
     },
     "metadata": {
      "needs_background": "light"
     },
     "output_type": "display_data"
    }
   ],
   "source": [
    "analyzer = pd.DataFrame(index = df_Age.index)\n",
    "analyzer['Average_age'] = np.mean(df_Age.loc[:,\"Feeder_1\":\"Feeder_14\"],axis = 1)\n",
    "analyzer.Average_age.hist(color = 'slategrey')\n",
    "plt.ylabel(\"Frequency\")\n",
    "plt.xlabel('Average Age in Hours')\n",
    "plt.title(\"Average Age of Price Feeds\")\n",
    "plt.savefig(\"Average Age of Price Feeds\")"
   ]
  },
  {
   "cell_type": "code",
   "execution_count": 22,
   "metadata": {},
   "outputs": [
    {
     "data": {
      "image/png": "[encoded data removed]",
      "text/plain": [
       "<Figure size 432x288 with 1 Axes>"
      ]
     },
     "metadata": {
      "needs_background": "light"
     },
     "output_type": "display_data"
    }
   ],
   "source": [
    "hour = 5\n",
    "analyzer['>' + str(hour)] = df_Age.gt(hour).sum(axis = 1)\n",
    "analyzer['>' + str(hour)].hist(color = 'slategrey')\n",
    "plt.ylabel(\"Frequency\")\n",
    "plt.xlabel(\"Number of Price Feeders older than \" + str(hour) + \" hours\")\n",
    "plt.title(\"Stale Pricing Analysis: beyond \" + str(hour) + \" hours\")\n",
    "plt.show()"
   ]
  },
  {
   "cell_type": "code",
   "execution_count": 25,
   "metadata": {},
   "outputs": [
    {
     "data": {
      "image/png": "[encoded data removed]",
      "text/plain": [
       "<Figure size 432x288 with 1 Axes>"
      ]
     },
     "metadata": {
      "needs_background": "light"
     },
     "output_type": "display_data"
    }
   ],
   "source": [
    "hour = 6\n",
    "analyzer['>' + str(hour)] = df_Age.gt(hour).sum(axis = 1)\n",
    "analyzer['>' + str(hour)].hist(color = 'slategrey')\n",
    "plt.ylabel(\"Frequency\")\n",
    "plt.xlabel(\"Number of Price Feeders older than \" + str(hour) + \" hours\")\n",
    "plt.title(\"Stale Pricing Analysis: beyond \" + str(hour) + \" hours\")\n",
    "plt.savefig(\"Stale Pricing Analysis: beyond \" + str(hour) + \" hours\")"
   ]
  },
  {
   "cell_type": "code",
   "execution_count": null,
   "metadata": {},
   "outputs": [],
   "source": []
  }
 ],
 "metadata": {
  "kernelspec": {
   "display_name": "Python 3",
   "language": "python",
   "name": "python3"
  },
  "language_info": {
   "codemirror_mode": {
    "name": "ipython",
    "version": 3
   },
   "file_extension": ".py",
   "mimetype": "text/x-python",
   "name": "python",
   "nbconvert_exporter": "python",
   "pygments_lexer": "ipython3",
   "version": "3.7.4"
  }
 },
 "nbformat": 4,
 "nbformat_minor": 4
}
