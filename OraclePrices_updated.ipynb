{
 "cells": [
  {
   "cell_type": "markdown",
   "metadata": {},
   "source": [
    "## Blockchain Research: Oracle Attack\n",
    "### Catherine Gu wcgu@stanford.edu, Stanford University"
   ]
  },
  {
   "cell_type": "code",
   "execution_count": 1,
   "metadata": {},
   "outputs": [
    {
     "ename": "ModuleNotFoundError",
     "evalue": "No module named 'chart_studio'",
     "output_type": "error",
     "traceback": [
      "\u001b[0;31m---------------------------------------------------------------------------\u001b[0m",
      "\u001b[0;31mModuleNotFoundError\u001b[0m                       Traceback (most recent call last)",
      "\u001b[0;32m<ipython-input-1-83a99647cb97>\u001b[0m in \u001b[0;36m<module>\u001b[0;34m\u001b[0m\n\u001b[1;32m      6\u001b[0m \u001b[0;32mfrom\u001b[0m \u001b[0mdatetime\u001b[0m \u001b[0;32mimport\u001b[0m \u001b[0mdatetime\u001b[0m\u001b[0;34m,\u001b[0m \u001b[0mtimedelta\u001b[0m\u001b[0;34m\u001b[0m\u001b[0;34m\u001b[0m\u001b[0m\n\u001b[1;32m      7\u001b[0m \u001b[0;32mimport\u001b[0m \u001b[0mos\u001b[0m\u001b[0;34m\u001b[0m\u001b[0;34m\u001b[0m\u001b[0m\n\u001b[0;32m----> 8\u001b[0;31m \u001b[0;32mimport\u001b[0m \u001b[0mchart_studio\u001b[0m\u001b[0;34m.\u001b[0m\u001b[0mplotly\u001b[0m\u001b[0;34m.\u001b[0m\u001b[0mplotly\u001b[0m \u001b[0;32mas\u001b[0m \u001b[0mpy\u001b[0m\u001b[0;34m\u001b[0m\u001b[0;34m\u001b[0m\u001b[0m\n\u001b[0m\u001b[1;32m      9\u001b[0m \u001b[0;32mimport\u001b[0m \u001b[0mplotly\u001b[0m\u001b[0;34m.\u001b[0m\u001b[0mgraph_objs\u001b[0m \u001b[0;32mas\u001b[0m \u001b[0mgo\u001b[0m\u001b[0;34m\u001b[0m\u001b[0;34m\u001b[0m\u001b[0m\n\u001b[1;32m     10\u001b[0m \u001b[0;32mfrom\u001b[0m \u001b[0mtqdm\u001b[0m \u001b[0;32mimport\u001b[0m \u001b[0mtqdm\u001b[0m\u001b[0;34m\u001b[0m\u001b[0;34m\u001b[0m\u001b[0m\n",
      "\u001b[0;31mModuleNotFoundError\u001b[0m: No module named 'chart_studio'"
     ]
    }
   ],
   "source": [
    "import json\n",
    "import math\n",
    "import numpy as np\n",
    "import pandas as pd\n",
    "import matplotlib.pyplot as plt\n",
    "from datetime import datetime, timedelta\n",
    "import os\n",
    "import chart_studio.plotly.plotly as py\n",
    "import plotly.graph_objs as go\n",
    "from tqdm import tqdm\n",
    "from functools import reduce\n",
    "import scipy.stats as sts"
   ]
  },
  {
   "cell_type": "code",
   "execution_count": 2,
   "metadata": {},
   "outputs": [],
   "source": [
    "cwd = os.getcwd()"
   ]
  },
  {
   "cell_type": "code",
   "execution_count": 3,
   "metadata": {},
   "outputs": [],
   "source": [
    "def error_check(j):\n",
    "    timeStamp = [int(each['timeStamp'],16) for each in j]\n",
    "    block = [int(each['blockNumber'],16) for each in j]\n",
    "    count = 0\n",
    "    count_error = 0\n",
    "    for each in j:\n",
    "        if len(each['topics']) == 4:\n",
    "            count += 1\n",
    "        else:\n",
    "            count_error += 1\n",
    "    print(count, count_error)\n",
    "\n",
    "    \n",
    "def check_boolean_is_false(j):\n",
    "    count = 0\n",
    "    for each in j:\n",
    "        timeStamp = int(each['timeStamp'],16)\n",
    "        if len(each['topics']) == 4:\n",
    "            zzz = int(each['topics'][3][-8:],16)\n",
    "            if timeStamp > zzz:\n",
    "                count += 1\n",
    "    print(count)"
   ]
  },
  {
   "cell_type": "code",
   "execution_count": 4,
   "metadata": {},
   "outputs": [],
   "source": [
    "files = []\n",
    "cwd = os.getcwd()\n",
    "for i in range(14):\n",
    "    filename = str(cwd + '/' + str(i+1) + '/out')\n",
    "    j = json.load(open(filename))['result']\n",
    "#     print(\"How many booleans return False, i.e. now > zzz\"), check_boolean_is_false(j)\n",
    "#     print(\"No of price reported, number of price not reported\"), print(len(j)), error_check(j)"
   ]
  },
  {
   "cell_type": "raw",
   "metadata": {},
   "source": [
    "#Populate dataframe using raw data, no forward fill: only check if now < zzz\n",
    "'''\n",
    "Not using the dataset here\n",
    "'''\n",
    "def new_get_dataframe(i,j):\n",
    "    timeStamp = []\n",
    "    block = []\n",
    "    prices = []\n",
    "    age = []\n",
    "    for each in j:\n",
    "        if len(each['topics']) == 4:\n",
    "            each_block = int(each['blockNumber'],16)\n",
    "            each_timeStamp = datetime.fromtimestamp(int(each['timeStamp'],16))\n",
    "            zzz = datetime.fromtimestamp(int(each['topics'][3][-8:],16))\n",
    "            \n",
    "            if each_timeStamp < zzz:\n",
    "                each_age = zzz - each_timeStamp\n",
    "                age.append(each_age.seconds / 3600) #convert to diff in hours\n",
    "                timeStamp.append(each_timeStamp)\n",
    "                block.append(each_block)\n",
    "                prices.append(int(each['topics'][2],16))\n",
    "    df = pd.DataFrame(list(zip(block, timeStamp,prices, age)), \n",
    "               columns =['blockNumber', 'timeStamp','Feeder_'+ str(i+1), 'Age_'+str(i+1)]) \n",
    "    df = df.set_index('blockNumber')\n",
    "    df['Feeder_'+ str(i+1)] = df['Feeder_'+ str(i+1)].apply(lambda x: x / 10e17)\n",
    "    df = df[df!=0]\n",
    "    df.sort_values(by = ['timeStamp'], ascending = False, inplace = True)\n",
    "    df.to_csv('feederdata_'+str(i+1))\n",
    "    return df"
   ]
  },
  {
   "cell_type": "code",
   "execution_count": 5,
   "metadata": {},
   "outputs": [],
   "source": [
    "def get_number(feeder):\n",
    "    list_0_3 = ['14']\n",
    "    list_0_4 = ['3', '4', '5', '10', '11', '13']\n",
    "    list_0_5 = ['1', '2', '7',]\n",
    "    list_0_6 = ['9', '12']\n",
    "    list_0_7 = ['8']\n",
    "    list_0_8 = ['6']\n",
    "    if feeder in list_0_3:\n",
    "        return 4;\n",
    "    if feeder in list_0_4:\n",
    "        return 5;\n",
    "    if feeder in list_0_5:\n",
    "        return 6;\n",
    "    if feeder in list_0_6:\n",
    "        return 7;\n",
    "    if feeder in list_0_7:\n",
    "        return 8;\n",
    "    if feeder in list_0_8:\n",
    "        return 9;\n",
    "    return 0"
   ]
  },
  {
   "cell_type": "code",
   "execution_count": 6,
   "metadata": {},
   "outputs": [],
   "source": [
    "def create_dataframe(feeder, apifile):\n",
    "    j = json.load(open(apifile))['result']\n",
    "    timeStamp = []\n",
    "    block = []\n",
    "    prices = []\n",
    "    expire = []\n",
    "    for each in j:\n",
    "        if len(each['topics']) == 4:\n",
    "            each_block = int(each['blockNumber'],16)\n",
    "            each_timeStamp = datetime.fromtimestamp(int(each['timeStamp'],16))\n",
    "            zzz = datetime.fromtimestamp(int(each['topics'][3][-8:],16))\n",
    "\n",
    "            if each_timeStamp < zzz:\n",
    "                each_expire = zzz - each_timeStamp\n",
    "                expire.append(each_expire.seconds / 3600) #convert to diff in hours\n",
    "                timeStamp.append(each_timeStamp)\n",
    "                block.append(each_block)\n",
    "                prices.append(int(each['topics'][2],16))\n",
    "    df = pd.DataFrame(list(zip(block, timeStamp, prices, expire)), \n",
    "               columns =['blockNumber', 'timeStamp','Feeder_'+ feeder, 'Expire_'+ feeder]) \n",
    "    df = df.set_index('blockNumber')\n",
    "    df['Feeder_'+ feeder] = df['Feeder_'+ feeder].apply(lambda x: x / 10e17)\n",
    "    df = df[df!=0]\n",
    "    return df"
   ]
  },
  {
   "cell_type": "code",
   "execution_count": 7,
   "metadata": {},
   "outputs": [],
   "source": [
    "def populate(feeder, number):\n",
    "    df_list = []\n",
    "    for n in reversed(range(number)):\n",
    "        apifile = str(cwd + '/' + feeder + '/api' + str(n))\n",
    "        sub = create_dataframe(feeder, apifile)\n",
    "        df_list.append(sub)\n",
    "    df = df_list[0]\n",
    "    for x in range(1, len(df_list)):\n",
    "        df = df.append(df_list[x])\n",
    "    df = df.drop_duplicates()\n",
    "    df.sort_values(by = ['timeStamp'], ascending = True, inplace = True)\n",
    "    return df"
   ]
  },
  {
   "cell_type": "code",
   "execution_count": 8,
   "metadata": {},
   "outputs": [],
   "source": [
    "fs = np.arange(1,15)\n",
    "files = []\n",
    "for f in fs:\n",
    "    n = get_number(str(f))\n",
    "    df = populate(str(f), n)\n",
    "    files.append(df)"
   ]
  },
  {
   "cell_type": "code",
   "execution_count": 10,
   "metadata": {
    "collapsed": true,
    "jupyter": {
     "outputs_hidden": true
    }
   },
   "outputs": [
    {
     "data": {
      "text/plain": [
       "[                      timeStamp  Feeder_1   Expire_1\n",
       " blockNumber                                         \n",
       " 4380755     2017-10-17 20:09:32   305.872   5.996667\n",
       " 4381020     2017-10-17 21:06:18   308.983   5.958889\n",
       " 4381076     2017-10-17 21:19:46   312.091   5.999167\n",
       " 4381559     2017-10-17 23:10:05   308.139   5.999444\n",
       " 4381692     2017-10-17 23:43:22   304.390   5.977778\n",
       " ...                         ...       ...        ...\n",
       " 8541458     2019-09-13 06:00:16   179.700  11.993333\n",
       " 8544349     2019-09-13 17:01:29   181.465  11.997500\n",
       " 8547327     2019-09-14 04:02:38   181.095  12.000000\n",
       " 8548087     2019-09-14 06:45:46   185.140  11.995556\n",
       " 8550056     2019-09-14 14:18:03   188.865  12.003611\n",
       " \n",
       " [5650 rows x 3 columns],                       timeStamp  Feeder_2   Expire_2\n",
       " blockNumber                                         \n",
       " 4380635     2017-10-17 19:38:44   308.897   5.970278\n",
       " 4380774     2017-10-17 20:11:52   305.777   5.992222\n",
       " 4381020     2017-10-17 21:06:18   309.473   5.967500\n",
       " 4381199     2017-10-17 21:50:50   312.657   5.993889\n",
       " 4381556     2017-10-17 23:09:35   309.447   5.998889\n",
       " ...                         ...       ...        ...\n",
       " 8514243     2019-09-09 00:11:29   177.020  12.001667\n",
       " 8514994     2019-09-09 02:58:06   180.585  11.996667\n",
       " 8515382     2019-09-09 04:23:33   184.690  12.000833\n",
       " 8516654     2019-09-09 09:06:55   179.715  11.999167\n",
       " 8519114     2019-09-09 18:16:18   183.750  11.997500\n",
       " \n",
       " [4996 rows x 3 columns],                       timeStamp  Feeder_3   Expire_3\n",
       " blockNumber                                         \n",
       " 4732321     2017-12-14 09:27:05   686.547   5.998889\n",
       " 4732517     2017-12-14 10:16:30   679.525   5.994722\n",
       " 4732583     2017-12-14 10:34:29   672.587   5.956111\n",
       " 4732667     2017-12-14 10:59:19   664.418   5.989722\n",
       " 4732757     2017-12-14 11:22:02   671.670   5.998611\n",
       " ...                         ...       ...        ...\n",
       " 7988773     2019-06-19 05:36:54   266.515  11.994167\n",
       " 7991270     2019-06-19 15:02:09   269.400  12.000556\n",
       " 7994081     2019-06-20 01:50:21   266.550  11.997778\n",
       " 7995444     2019-06-20 06:49:39   269.245  11.997778\n",
       " 7997194     2019-06-20 13:28:49   272.770  11.976944\n",
       " \n",
       " [4995 rows x 3 columns],                       timeStamp  Feeder_4   Expire_4\n",
       " blockNumber                                         \n",
       " 4396436     2017-10-20 08:43:50   311.266   5.985000\n",
       " 4396641     2017-10-20 09:30:11   307.346   5.977778\n",
       " 4396643     2017-10-20 09:30:35   307.813   5.997222\n",
       " 4397540     2017-10-20 12:49:07       NaN   5.943889\n",
       " 4397546     2017-10-20 12:50:14   306.928   5.995278\n",
       " ...                         ...       ...        ...\n",
       " 7998439     2019-06-20 18:04:28   276.015  12.000833\n",
       " 7998573     2019-06-20 18:40:04   281.730  11.998611\n",
       " 7999796     2019-06-20 23:13:07   287.560  12.000833\n",
       " 8002715     2019-06-21 10:15:32   288.575  12.001667\n",
       " 8003155     2019-06-21 11:51:59   295.145  11.996111\n",
       " \n",
       " [4995 rows x 3 columns],                       timeStamp  Feeder_5   Expire_5\n",
       " blockNumber                                         \n",
       " 4397639     2017-10-20 13:12:24   301.177   5.904167\n",
       " 4398946     2017-10-20 18:07:46   300.803   5.992778\n",
       " 4399230     2017-10-20 19:06:52   297.445   5.996111\n",
       " 4399873     2017-10-20 21:38:56   294.030   5.977500\n",
       " 4400092     2017-10-20 22:35:21   297.616   5.995833\n",
       " ...                         ...       ...        ...\n",
       " 7865181     2019-05-30 21:36:45   248.885  11.989444\n",
       " 7865644     2019-05-30 23:13:42   254.910  11.974167\n",
       " 7867462     2019-05-31 06:02:29   260.370  11.996111\n",
       " 7870299     2019-05-31 16:30:53   265.760  11.971389\n",
       " 7870646     2019-05-31 17:50:02   271.820  11.996667\n",
       " \n",
       " [4995 rows x 3 columns],                       timeStamp  Feeder_6   Expire_6\n",
       " blockNumber                                         \n",
       " 4390674     2017-10-19 10:19:08   309.658   5.958889\n",
       " 4391352     2017-10-19 12:49:47   306.560   5.981944\n",
       " 4392623     2017-10-19 17:50:50   308.554   5.976389\n",
       " 4393891     2017-10-19 22:50:51   307.456   5.983333\n",
       " 4394759     2017-10-20 02:11:03   304.054   5.841667\n",
       " ...                         ...       ...        ...\n",
       " 8544539     2019-09-13 17:44:39   181.270  11.997222\n",
       " 8547530     2019-09-14 04:46:18   181.015  11.998056\n",
       " 8548212     2019-09-14 07:14:12   184.705  11.991667\n",
       " 8549048     2019-09-14 10:27:09   188.685  11.996944\n",
       " 8551973     2019-09-14 21:28:47   186.770  11.999167\n",
       " \n",
       " [8691 rows x 3 columns],                       timeStamp  Feeder_7   Expire_7\n",
       " blockNumber                                         \n",
       " 4409176     2017-10-22 09:12:36   295.285   5.991111\n",
       " 4409994     2017-10-22 12:31:57   292.275   5.981111\n",
       " 4410679     2017-10-22 15:10:25   295.350   5.999722\n",
       " 4412006     2017-10-22 20:13:42   292.955   5.982222\n",
       " 4412751     2017-10-22 23:09:49   290.005   5.979167\n",
       " ...                         ...       ...        ...\n",
       " 8567143     2019-09-17 06:17:02   201.835  11.987500\n",
       " 8567905     2019-09-17 09:08:50   205.610  11.996111\n",
       " 8568039     2019-09-17 09:38:55   209.005  12.000278\n",
       " 8569205     2019-09-17 13:57:19   213.965  12.006944\n",
       " 8569429     2019-09-17 14:43:45   210.670  11.996667\n",
       " \n",
       " [5713 rows x 3 columns],                       timeStamp  Feeder_8  Expire_8\n",
       " blockNumber                                        \n",
       " 4435349     2017-10-26 14:31:39   295.498  5.947500\n",
       " 4435367     2017-10-26 14:36:04   295.835  5.905000\n",
       " 4440360     2017-10-27 09:49:48   295.075  5.832778\n",
       " 4441617     2017-10-27 14:40:49   296.241  5.990833\n",
       " 4442940     2017-10-27 19:41:47   296.702  5.992778\n",
       " ...                         ...       ...       ...\n",
       " 7885200     2019-06-03 00:44:03   261.800  5.997500\n",
       " 7886507     2019-06-03 05:44:41   262.620  5.998889\n",
       " 7887059     2019-06-03 07:47:19   258.430  5.982778\n",
       " 7887111     2019-06-03 07:58:03   257.025  5.981389\n",
       " 7887383     2019-06-03 09:03:15   258.390  5.998611\n",
       " \n",
       " [7987 rows x 3 columns],                       timeStamp  Feeder_9   Expire_9\n",
       " blockNumber                                         \n",
       " 4694891     2017-12-07 21:08:36   433.687   5.994444\n",
       " 4696103     2017-12-08 02:08:37   440.770   5.999167\n",
       " 4697296     2017-12-08 07:09:18   450.343   5.993889\n",
       " 4698509     2017-12-08 12:10:52   456.910   5.984444\n",
       " 4699745     2017-12-08 17:10:48   459.810   5.997500\n",
       " ...                         ...       ...        ...\n",
       " 7936312     2019-06-11 00:50:58   246.670  11.999167\n",
       " 7936921     2019-06-11 03:12:46   243.480  11.998056\n",
       " 7937007     2019-06-11 03:33:02   240.990  11.992500\n",
       " 7937380     2019-06-11 04:52:57   239.350  12.005278\n",
       " 7937845     2019-06-11 06:39:42   241.970  12.002500\n",
       " \n",
       " [6992 rows x 3 columns],                       timeStamp  Feeder_10  Expire_10\n",
       " blockNumber                                          \n",
       " 4425313     2017-10-24 23:31:22    298.025   5.951111\n",
       " 4425561     2017-10-25 00:28:08    301.435   5.965000\n",
       " 4426175     2017-10-25 02:53:55    298.360   5.983333\n",
       " 4426330     2017-10-25 03:31:20    295.060   5.996944\n",
       " 4427129     2017-10-25 06:38:30    298.340   5.996944\n",
       " ...                         ...        ...        ...\n",
       " 8142894     2019-07-13 06:19:09    271.195  12.001944\n",
       " 8144371     2019-07-13 11:48:30    265.585  11.990000\n",
       " 8147378     2019-07-13 22:50:25    266.710  11.995000\n",
       " 8148489     2019-07-14 02:53:30    250.745  11.988056\n",
       " 8148514     2019-07-14 02:59:16    241.670  11.986111\n",
       " \n",
       " [4996 rows x 3 columns],                       timeStamp  Feeder_11  Expire_11\n",
       " blockNumber                                          \n",
       " 4398633     2017-10-20 16:56:51    303.974   5.996111\n",
       " 4399167     2017-10-20 18:53:25    300.772   5.987778\n",
       " 4399873     2017-10-20 21:38:56    297.313   5.967222\n",
       " 4400142     2017-10-20 22:43:58    300.413   5.978333\n",
       " 4402059     2017-10-21 06:09:48    295.285   5.986667\n",
       " ...                         ...        ...        ...\n",
       " 8163125     2019-07-16 10:07:13    194.545  11.996111\n",
       " 8163207     2019-07-16 10:27:25    199.055  11.996944\n",
       " 8163854     2019-07-16 12:59:35    203.975  11.990000\n",
       " 8164560     2019-07-16 15:36:21    199.130  11.991667\n",
       " 8165592     2019-07-16 19:17:43    194.615  11.926389\n",
       " \n",
       " [4996 rows x 3 columns],                       timeStamp  Feeder_12  Expire_12\n",
       " blockNumber                                          \n",
       " 4428717     2017-10-25 12:37:15    297.568   5.960556\n",
       " 4428736     2017-10-25 12:40:48    297.618   5.929444\n",
       " 4429545     2017-10-25 15:46:31    295.707   5.994167\n",
       " 4430813     2017-10-25 20:47:17    297.997   5.997778\n",
       " 4432080     2017-10-26 01:48:02    295.493   5.986944\n",
       " ...                         ...        ...        ...\n",
       " 8322341     2019-08-10 03:26:35    212.370  11.988333\n",
       " 8322640     2019-08-10 04:37:06    203.710  11.986944\n",
       " 8325342     2019-08-10 14:41:02    205.990  11.979167\n",
       " 8326151     2019-08-10 17:41:15    210.145  11.992778\n",
       " 8328819     2019-08-11 03:44:58    209.880  11.996944\n",
       " \n",
       " [6993 rows x 3 columns],                       timeStamp  Feeder_13  Expire_13\n",
       " blockNumber                                          \n",
       " 4572296     2017-11-17 14:37:19    332.292   5.995278\n",
       " 4579255     2017-11-18 17:42:40    345.296   5.999444\n",
       " 4584553     2017-11-19 14:00:13    351.600   5.957500\n",
       " 4584653     2017-11-19 14:22:52    355.311   5.994444\n",
       " 4585971     2017-11-19 19:23:50    358.442   5.982778\n",
       " ...                         ...        ...        ...\n",
       " 8278412     2019-08-03 08:05:17    222.915  11.985000\n",
       " 8281640     2019-08-03 19:58:53    221.140  11.994167\n",
       " 8285342     2019-08-04 09:46:54    221.080  11.998056\n",
       " 8288152     2019-08-04 20:17:45    229.300  11.993056\n",
       " 8290339     2019-08-05 04:19:56    233.090  11.989722\n",
       " \n",
       " [4996 rows x 3 columns],                       timeStamp  Feeder_14  Expire_14\n",
       " blockNumber                                          \n",
       " 4646800     2017-11-29 16:07:47    427.874   5.952778\n",
       " 4646849     2017-11-29 16:18:28    432.156   5.978333\n",
       " 4646884     2017-11-29 16:26:25    438.618   5.972222\n",
       " 4647042     2017-11-29 17:01:39    443.108   5.959722\n",
       " 4647146     2017-11-29 17:25:54    449.181   5.981111\n",
       " ...                         ...        ...        ...\n",
       " 8544430     2019-09-13 17:20:14    181.235  11.969722\n",
       " 8547130     2019-09-14 03:21:04    180.865  11.964444\n",
       " 8548205     2019-09-14 07:12:58    184.665  11.990833\n",
       " 8549048     2019-09-14 10:27:09    188.685  11.996944\n",
       " 8551709     2019-09-14 20:30:05    187.175  11.963333\n",
       " \n",
       " [3885 rows x 3 columns]]"
      ]
     },
     "execution_count": 10,
     "metadata": {},
     "output_type": "execute_result"
    }
   ],
   "source": [
    "files"
   ]
  },
  {
   "cell_type": "code",
   "execution_count": 27,
   "metadata": {},
   "outputs": [
    {
     "name": "stderr",
     "output_type": "stream",
     "text": [
      "/Users/WGu/opt/anaconda3/envs/myconda/lib/python3.7/site-packages/pandas/plotting/_matplotlib/converter.py:103: FutureWarning:\n",
      "\n",
      "Using an implicitly registered datetime converter for a matplotlib plotting method. The converter was registered by pandas on import. Future versions of pandas will require you to explicitly register matplotlib converters.\n",
      "\n",
      "To register the converters:\n",
      "\t>>> from pandas.plotting import register_matplotlib_converters\n",
      "\t>>> register_matplotlib_converters()\n",
      "\n"
     ]
    },
    {
     "data": {
      "image/png": "[encoded data removed]",
      "text/plain": [
       "<Figure size 1080x720 with 1 Axes>"
      ]
     },
     "metadata": {
      "needs_background": "light"
     },
     "output_type": "display_data"
    }
   ],
   "source": [
    "'''\n",
    "We plot this again using dfs_raw later, which will be slightly different\n",
    "because dfs_raw rounded off Age to the nearest integer\n",
    "'''\n",
    "\n",
    "plt.figure(figsize=(15,10)) \n",
    "for i in range(14):\n",
    "    plt.plot(files[i].timeStamp, files[i]['Expire_'+ str(i+1)], label = \"Feed \" + str(i+1))\n",
    "plt.legend()\n",
    "plt.ylabel(\"Time to Expiry of Price Feeds in Hours\")\n",
    "plt.title(\"Measuring Expiry Time\")\n",
    "plt.savefig(\"OLD_Measuring Price Feed Age\")"
   ]
  },
  {
   "cell_type": "markdown",
   "metadata": {},
   "source": [
    "### Creating dfs_raw: No Forward Fill"
   ]
  },
  {
   "cell_type": "code",
   "execution_count": 28,
   "metadata": {},
   "outputs": [],
   "source": [
    "dfs_raw = files[0].merge(files[1], how = 'outer', sort = True)\n",
    "for i in range(2,14):\n",
    "    dfs_raw = dfs_raw.merge(files[i], how = 'outer', sort = True)\n",
    "    \n",
    "for i in range(1,15):\n",
    "    dfs_raw['Expire_'+str(i)] = dfs_raw['Expire_'+str(i)].round(0)\n",
    "\n",
    "dfs_raw['timeStamp'] = dfs_raw.timeStamp.apply(lambda x: x.replace(second = 0, minute = 0) + timedelta(hours = 1))\n",
    "dfs_raw = dfs_raw.groupby('timeStamp').last()"
   ]
  },
  {
   "cell_type": "code",
   "execution_count": 29,
   "metadata": {},
   "outputs": [],
   "source": [
    "myrange = dfs_raw.loc['2019-05-18 00:00:00':'2019-09-17 15:00:00'].index\n",
    "dfs_raw = dfs_raw.drop(index = myrange)"
   ]
  },
  {
   "cell_type": "code",
   "execution_count": 188,
   "metadata": {},
   "outputs": [
    {
     "data": {
      "text/plain": [
       "2.0"
      ]
     },
     "execution_count": 188,
     "metadata": {},
     "output_type": "execute_result"
    }
   ],
   "source": [
    "round(1.5, 0)"
   ]
  },
  {
   "cell_type": "markdown",
   "metadata": {},
   "source": [
    "### Creating dfs_ff: Forward Fill by Age"
   ]
  },
  {
   "cell_type": "code",
   "execution_count": 43,
   "metadata": {},
   "outputs": [],
   "source": [
    "dfs_ff = dfs_raw.copy(deep = True)"
   ]
  },
  {
   "cell_type": "code",
   "execution_count": 44,
   "metadata": {},
   "outputs": [],
   "source": [
    "def can_forward_fill_next(current_row, feeder, raw_data):\n",
    "    current_price_value = raw_data.iloc[current_row][\"Feeder_\" + str(feeder)]\n",
    "    next_price_value = raw_data.iloc[current_row + 1][\"Feeder_\" + str(feeder)]\n",
    "    current_price_age = raw_data.iloc[current_row][\"Expire_\" + str(feeder)]\n",
    "    if np.isnan(current_price_value) == False and np.isnan(next_price_value) == True:\n",
    "        #Maker's condition where bool = True if now < zzz \n",
    "        if current_price_age > 0:\n",
    "            return True\n",
    "        else: \n",
    "            return False\n",
    "    return False"
   ]
  },
  {
   "cell_type": "code",
   "execution_count": 45,
   "metadata": {},
   "outputs": [
    {
     "data": {
      "text/plain": [
       "'\\nNote there might be some edge cases when Age is between 1 and 0: since we rounded to the hour\\nso sometimes when in reality Medianizer may not include a price in its computation we would, \\nas are rounded to the nearest hour. E.g.: dfs_ff.iloc[990:1020]\\n'"
      ]
     },
     "execution_count": 45,
     "metadata": {},
     "output_type": "execute_result"
    }
   ],
   "source": [
    "for row in range(0,len(dfs_ff.index) - 1):\n",
    "    for i in range(1,15):\n",
    "        if can_forward_fill_next(row, i, dfs_ff):\n",
    "            #forward fill next row value using current row value\n",
    "            dfs_ff.iloc[row + 1][\"Feeder_\"+str(i)] = dfs_ff.iloc[row][\"Feeder_\"+str(i)] \n",
    "            #decrement expiry by one hour\n",
    "            dfs_ff.iloc[row + 1][\"Expire_\"+str(i)] = dfs_ff.iloc[row][\"Expire_\"+str(i)] - 1\n",
    "\n",
    "'''\n",
    "Note there might be some edge cases when Age is between 1 and 0: since we rounded to the hour\n",
    "so sometimes when in reality Medianizer may not include a price in its computation we would, \n",
    "as are rounded to the nearest hour. E.g.: dfs_ff.iloc[990:1020]\n",
    "'''"
   ]
  },
  {
   "cell_type": "markdown",
   "metadata": {},
   "source": [
    "## External Disagreement"
   ]
  },
  {
   "cell_type": "code",
   "execution_count": 46,
   "metadata": {},
   "outputs": [],
   "source": [
    "def median_compare(s1,s2, label, ifLog):\n",
    "    diff = s1 - s2\n",
    "    print('mean = {:.2f}, std = {:.2f}, max =  {:.2f}'.format(abs(diff).mean(), abs(diff).std(), abs(diff).max()))\n",
    "    print()\n",
    "    print(diff.loc[diff == diff.min()])\n",
    "    print(diff.loc[diff == diff.max()])\n",
    "    hist = plt.hist(diff, bins = 30, color = \"slategrey\")\n",
    "    if ifLog:\n",
    "        plt.yscale('log')\n",
    "    plt.title(\"Aggregation Differences - {}\".format(label))\n",
    "    plt.savefig(\"Aggregation Differences - {}\".format(label))\n",
    "    plt.grid()\n",
    "    plt.show()\n",
    "    \n",
    "def get_top3(a, b):\n",
    "    #a and b are 2 dfs\n",
    "    diff = abs(a - b).sort_values(ascending = False)\n",
    "    location = []\n",
    "    values = []\n",
    "    for i in range(3):\n",
    "        pos = diff.index[diff == diff[i]][0]\n",
    "        location.append(pos)\n",
    "        values.append(diff[i])\n",
    "    return location, values"
   ]
  },
  {
   "cell_type": "code",
   "execution_count": 47,
   "metadata": {},
   "outputs": [
    {
     "name": "stdout",
     "output_type": "stream",
     "text": [
      "11080\n",
      "11080\n"
     ]
    }
   ],
   "source": [
    "#sanity check\n",
    "print(sum(dfs_raw.index == dfs_ff.index))\n",
    "print(len(dfs_raw.index))"
   ]
  },
  {
   "cell_type": "markdown",
   "metadata": {},
   "source": [
    "#### CryptoCompare CCCAGG"
   ]
  },
  {
   "cell_type": "code",
   "execution_count": 48,
   "metadata": {},
   "outputs": [],
   "source": [
    "#CryptoCompare - obtain the data from drive\n",
    "path = '/Users/WGu/Desktop/Blockchain/Stable Coins/ETH:USD/histohour'\n",
    "ccfile = json.load(open(path+'.json'))['Data']\n",
    "ccdf = pd.DataFrame(ccfile)\n",
    "for i in range(1,13):\n",
    "    path1 = path + \" (\" + str(i) + ').json'\n",
    "    ccfile1 = json.load(open(path1))['Data']\n",
    "    ccdf1 = pd.DataFrame(ccfile1)\n",
    "    ccdf = pd.concat([ccdf, ccdf1])\n",
    "ccdf.time = ccdf.time.apply(datetime.fromtimestamp)\n",
    "ccdf.sort_values(by = ['time'], ascending = True, inplace = True)\n",
    "\n",
    "#remove duplicate entries by column 'time'\n",
    "ccdf = ccdf.drop_duplicates(subset = 'time', keep = 'last')\n",
    "ccdf = ccdf.set_index('time')\n",
    "\n",
    "#CryptoCompare data missing one entry 2019-03-10 02:00:00 so repopulate such that data_range matchs dfs\n",
    "ccdf = ccdf.reindex(dfs_raw.index, method = 'ffill')"
   ]
  },
  {
   "cell_type": "code",
   "execution_count": 49,
   "metadata": {},
   "outputs": [],
   "source": [
    "def select_columns(df):\n",
    "    df_compute = df.copy(deep = True)\n",
    "    for i in range(1,15):\n",
    "        df_compute = df_compute.drop(columns= 'Expire_' + str(i))\n",
    "    return df_compute"
   ]
  },
  {
   "cell_type": "markdown",
   "metadata": {},
   "source": [
    "#### Creating Median for dfs_raw, dfs_ff"
   ]
  },
  {
   "cell_type": "code",
   "execution_count": 50,
   "metadata": {},
   "outputs": [],
   "source": [
    "dfs_raw_compute = select_columns(dfs_raw)\n",
    "dfs_raw_compute['median'] = dfs_raw_compute.median(axis = 1, skipna = True)\n",
    "\n",
    "dfs_ff_compute = select_columns(dfs_ff)\n",
    "dfs_ff_compute['median'] = dfs_ff_compute.median(axis = 1, skipna = True)"
   ]
  },
  {
   "cell_type": "markdown",
   "metadata": {},
   "source": [
    "#### Creating Winsorized Mean for dfs_ff"
   ]
  },
  {
   "cell_type": "code",
   "execution_count": 51,
   "metadata": {},
   "outputs": [],
   "source": [
    "dfs_ff_winsor_compute = select_columns(dfs_ff)\n",
    "winsor = sts.mstats.winsorize(dfs_ff_winsor_compute, limits=[0.05, 0.05], axis = 1)\n",
    "dfs_ff_winsor = pd.DataFrame(np.ma.filled(winsor), index = dfs_ff_winsor_compute.index)\n",
    "dfs_ff_winsor['winsor_mean'] = dfs_ff_winsor.mean(axis = 1, skipna = True).round(3)"
   ]
  },
  {
   "cell_type": "markdown",
   "metadata": {},
   "source": [
    "### Compare Robust Statistics"
   ]
  },
  {
   "cell_type": "code",
   "execution_count": 52,
   "metadata": {},
   "outputs": [],
   "source": [
    "s1 = dfs_raw_compute['median']\n",
    "s2 = dfs_ff_compute['median'] #Maker\n",
    "s3 = dfs_ff_winsor['winsor_mean']\n",
    "s_cc = (ccdf['open'] + ccdf['close']) / 2"
   ]
  },
  {
   "cell_type": "code",
   "execution_count": 53,
   "metadata": {},
   "outputs": [
    {
     "name": "stdout",
     "output_type": "stream",
     "text": [
      "mean = 3.33, std = 4.79, max =  153.73\n",
      "\n",
      "timeStamp\n",
      "2018-02-02 05:00:00   -153.73\n",
      "dtype: float64\n",
      "timeStamp\n",
      "2018-01-10 19:00:00    67.89\n",
      "dtype: float64\n"
     ]
    },
    {
     "data": {
      "image/png": "[encoded data removed]",
      "text/plain": [
       "<Figure size 432x288 with 1 Axes>"
      ]
     },
     "metadata": {
      "needs_background": "light"
     },
     "output_type": "display_data"
    },
    {
     "name": "stdout",
     "output_type": "stream",
     "text": [
      "mean = 1.43, std = 2.15, max =  38.67\n",
      "\n",
      "timeStamp\n",
      "2018-01-18 14:00:00   -16.355\n",
      "Name: median, dtype: float64\n",
      "timeStamp\n",
      "2018-01-17 14:00:00    38.675\n",
      "Name: median, dtype: float64\n"
     ]
    },
    {
     "data": {
      "image/png": "[encoded data removed]",
      "text/plain": [
       "<Figure size 432x288 with 1 Axes>"
      ]
     },
     "metadata": {
      "needs_background": "light"
     },
     "output_type": "display_data"
    },
    {
     "name": "stdout",
     "output_type": "stream",
     "text": [
      "mean = 0.69, std = 1.18, max =  20.85\n",
      "\n",
      "timeStamp\n",
      "2018-01-16 14:00:00   -20.313\n",
      "dtype: float64\n",
      "timeStamp\n",
      "2017-12-22 08:00:00    20.847\n",
      "dtype: float64\n"
     ]
    },
    {
     "data": {
      "image/png": "[encoded data removed]",
      "text/plain": [
       "<Figure size 432x288 with 1 Axes>"
      ]
     },
     "metadata": {
      "needs_background": "light"
     },
     "output_type": "display_data"
    },
    {
     "name": "stdout",
     "output_type": "stream",
     "text": [
      "mean = 1.67, std = 2.13, max =  32.92\n",
      "\n",
      "timeStamp\n",
      "2018-01-16 14:00:00   -24.998\n",
      "dtype: float64\n",
      "timeStamp\n",
      "2018-01-17 14:00:00    32.918\n",
      "dtype: float64\n"
     ]
    },
    {
     "data": {
      "image/png": "[encoded data removed]",
      "text/plain": [
       "<Figure size 432x288 with 1 Axes>"
      ]
     },
     "metadata": {
      "needs_background": "light"
     },
     "output_type": "display_data"
    }
   ],
   "source": [
    "median_compare(s2, s_cc, \"Maker vs CCCAGG\", True)\n",
    "median_compare(s1, s2, 'Effect of Forward Fill (1)', False)\n",
    "median_compare(s2, s3, \"Maker vs Winsorizing (2)\", False)\n",
    "median_compare(s1, s3, \"Median without Forward Fill vs Winsorizing (3)\", False)"
   ]
  },
  {
   "cell_type": "code",
   "execution_count": 54,
   "metadata": {},
   "outputs": [
    {
     "data": {
      "text/plain": [
       "0.9043321299638989"
      ]
     },
     "execution_count": 54,
     "metadata": {},
     "output_type": "execute_result"
    }
   ],
   "source": [
    "diff = s1 - s2\n",
    "np.count_nonzero(diff) / len(diff)"
   ]
  },
  {
   "cell_type": "markdown",
   "metadata": {},
   "source": [
    "### Get Top 3 Events"
   ]
  },
  {
   "cell_type": "code",
   "execution_count": 62,
   "metadata": {},
   "outputs": [
    {
     "name": "stdout",
     "output_type": "stream",
     "text": [
      "[Timestamp('2018-02-02 05:00:00'), Timestamp('2018-01-10 19:00:00'), Timestamp('2018-01-16 18:00:00')]\n"
     ]
    }
   ],
   "source": [
    "'''\n",
    "Henceforth, use s2 vs s_cc: since s2 is replicating Maker with forward fill\n",
    "'''\n",
    "events, values = get_top3(s2, s_cc)\n",
    "print(events)"
   ]
  },
  {
   "cell_type": "code",
   "execution_count": 63,
   "metadata": {},
   "outputs": [],
   "source": [
    "def get_results(event):\n",
    "    print(\"CCCAGG vs median: \")\n",
    "    print((ccdf.loc[event].open + ccdf.loc[event].close)/2, dfs_ff_compute.loc[event]['median'])\n",
    "    print()\n",
    "    print(\"Feeder prices: \")\n",
    "    print(dfs_ff_compute.loc[event])"
   ]
  },
  {
   "cell_type": "markdown",
   "metadata": {},
   "source": [
    "#### Event 1"
   ]
  },
  {
   "cell_type": "code",
   "execution_count": 64,
   "metadata": {},
   "outputs": [
    {
     "name": "stdout",
     "output_type": "stream",
     "text": [
      "2018-02-02 05:00:00 Aggregate Difference:  153.73000000000002\n"
     ]
    }
   ],
   "source": [
    "print(events[0], \"Aggregate Difference: \", values[0])"
   ]
  },
  {
   "cell_type": "code",
   "execution_count": 65,
   "metadata": {},
   "outputs": [
    {
     "name": "stdout",
     "output_type": "stream",
     "text": [
      "CCCAGG vs median: \n",
      "908.75 755.02\n",
      "\n",
      "Feeder prices: \n",
      "Feeder_1     748.185\n",
      "Feeder_2     748.185\n",
      "Feeder_3     824.020\n",
      "Feeder_4     742.000\n",
      "Feeder_5     825.305\n",
      "Feeder_6     794.780\n",
      "Feeder_7     754.895\n",
      "Feeder_8     755.145\n",
      "Feeder_9     755.980\n",
      "Feeder_10    754.880\n",
      "Feeder_11    739.925\n",
      "Feeder_12    780.000\n",
      "Feeder_13    749.360\n",
      "Feeder_14    876.300\n",
      "median       755.020\n",
      "Name: 2018-02-02 05:00:00, dtype: float64\n"
     ]
    }
   ],
   "source": [
    "get_results(events[0])"
   ]
  },
  {
   "cell_type": "code",
   "execution_count": 66,
   "metadata": {},
   "outputs": [
    {
     "data": {
      "text/plain": [
       "0.16916643741403029"
      ]
     },
     "execution_count": 66,
     "metadata": {},
     "output_type": "execute_result"
    }
   ],
   "source": [
    "(908.75-755.02) / 908.75"
   ]
  },
  {
   "cell_type": "code",
   "execution_count": 67,
   "metadata": {},
   "outputs": [
    {
     "name": "stdout",
     "output_type": "stream",
     "text": [
      "Gemini 935.62\n",
      "Coinbase 930.8\n"
     ]
    }
   ],
   "source": [
    "# Gemini 2018-02-02 05:00:00\tETHUSD\t948.26\t948.26\t922.98\t922.99\n",
    "# Coinbase 2018-02-02 05-AM\tETHUSD\t943.61\t946.05\t915.55\t915.55\n",
    "print('Gemini', (948.26 + 922.98)/2)\n",
    "print('Coinbase', (946.05 + 915.55)/2)"
   ]
  },
  {
   "cell_type": "code",
   "execution_count": 68,
   "metadata": {},
   "outputs": [
    {
     "data": {
      "text/plain": [
       "Feeder_1     748.185\n",
       "Expire_1       6.000\n",
       "Feeder_2     748.185\n",
       "Expire_2       6.000\n",
       "Feeder_3     824.020\n",
       "Expire_3       6.000\n",
       "Feeder_4     742.000\n",
       "Expire_4       6.000\n",
       "Feeder_5     825.305\n",
       "Expire_5       6.000\n",
       "Feeder_6     794.780\n",
       "Expire_6       6.000\n",
       "Feeder_7     754.895\n",
       "Expire_7       6.000\n",
       "Feeder_8     755.145\n",
       "Expire_8       6.000\n",
       "Feeder_9     755.980\n",
       "Expire_9       6.000\n",
       "Feeder_10    754.880\n",
       "Expire_10      6.000\n",
       "Feeder_11    739.925\n",
       "Expire_11      6.000\n",
       "Feeder_12    780.000\n",
       "Expire_12      5.000\n",
       "Feeder_13    749.360\n",
       "Expire_13      6.000\n",
       "Feeder_14    876.300\n",
       "Expire_14      3.000\n",
       "Name: 2018-02-02 05:00:00, dtype: float64"
      ]
     },
     "execution_count": 68,
     "metadata": {},
     "output_type": "execute_result"
    }
   ],
   "source": [
    "dfs_ff.loc[events[0]]"
   ]
  },
  {
   "cell_type": "markdown",
   "metadata": {},
   "source": [
    "#### Event 2"
   ]
  },
  {
   "cell_type": "code",
   "execution_count": 69,
   "metadata": {},
   "outputs": [
    {
     "name": "stdout",
     "output_type": "stream",
     "text": [
      "2018-01-10 19:00:00 Aggregate Difference:  67.8900000000001\n"
     ]
    }
   ],
   "source": [
    "print(events[1], \"Aggregate Difference: \", values[1])"
   ]
  },
  {
   "cell_type": "code",
   "execution_count": 70,
   "metadata": {},
   "outputs": [
    {
     "name": "stdout",
     "output_type": "stream",
     "text": [
      "CCCAGG vs median: \n",
      "1240.31 1308.2\n",
      "\n",
      "Feeder prices: \n",
      "Feeder_1     1314.000\n",
      "Feeder_2     1315.000\n",
      "Feeder_3     1309.215\n",
      "Feeder_4     1288.000\n",
      "Feeder_5     1308.400\n",
      "Feeder_6     1306.600\n",
      "Feeder_7     1307.055\n",
      "Feeder_8     1299.000\n",
      "Feeder_9     1306.600\n",
      "Feeder_10    1308.900\n",
      "Feeder_11    1311.990\n",
      "Feeder_12    1295.010\n",
      "Feeder_13    1308.000\n",
      "Feeder_14    1311.980\n",
      "median       1308.200\n",
      "Name: 2018-01-10 19:00:00, dtype: float64\n"
     ]
    }
   ],
   "source": [
    "get_results(events[1])"
   ]
  },
  {
   "cell_type": "code",
   "execution_count": 71,
   "metadata": {},
   "outputs": [
    {
     "data": {
      "text/plain": [
       "-67.8900000000001"
      ]
     },
     "execution_count": 71,
     "metadata": {},
     "output_type": "execute_result"
    }
   ],
   "source": [
    "1240.31 - 1308.2"
   ]
  },
  {
   "cell_type": "code",
   "execution_count": 72,
   "metadata": {},
   "outputs": [
    {
     "name": "stdout",
     "output_type": "stream",
     "text": [
      "Gemini 1288.78\n",
      "Coinbase 1289.505\n"
     ]
    }
   ],
   "source": [
    "# Gemini 2018-01-10 19:00:00\tETHUSD\t1287.0\t1310.96\t1266.6\t1302.04\n",
    "# Coinbase 2018-01-10 07-PM\tETHUSD\t1288\t1308\t1271.01\t1304.37\n",
    "print('Gemini', (1310.96 + 1266.6)/2)\n",
    "print('Coinbase', (1308 + 1271.01)/2)"
   ]
  },
  {
   "cell_type": "code",
   "execution_count": 73,
   "metadata": {},
   "outputs": [
    {
     "data": {
      "text/plain": [
       "Feeder_1     1314.000\n",
       "Expire_1        4.000\n",
       "Feeder_2     1315.000\n",
       "Expire_2        4.000\n",
       "Feeder_3     1309.215\n",
       "Expire_3        4.000\n",
       "Feeder_4     1288.000\n",
       "Expire_4        5.000\n",
       "Feeder_5     1308.400\n",
       "Expire_5        4.000\n",
       "Feeder_6     1306.600\n",
       "Expire_6        6.000\n",
       "Feeder_7     1307.055\n",
       "Expire_7        4.000\n",
       "Feeder_8     1299.000\n",
       "Expire_8        5.000\n",
       "Feeder_9     1306.600\n",
       "Expire_9        6.000\n",
       "Feeder_10    1308.900\n",
       "Expire_10       4.000\n",
       "Feeder_11    1311.990\n",
       "Expire_11       4.000\n",
       "Feeder_12    1295.010\n",
       "Expire_12       5.000\n",
       "Feeder_13    1308.000\n",
       "Expire_13       4.000\n",
       "Feeder_14    1311.980\n",
       "Expire_14       4.000\n",
       "Name: 2018-01-10 19:00:00, dtype: float64"
      ]
     },
     "execution_count": 73,
     "metadata": {},
     "output_type": "execute_result"
    }
   ],
   "source": [
    "dfs_ff.loc[events[1]]"
   ]
  },
  {
   "cell_type": "markdown",
   "metadata": {},
   "source": [
    "#### Event 3"
   ]
  },
  {
   "cell_type": "code",
   "execution_count": 74,
   "metadata": {},
   "outputs": [
    {
     "name": "stdout",
     "output_type": "stream",
     "text": [
      "2018-01-16 18:00:00 Aggregate Difference:  59.8449999999998\n"
     ]
    }
   ],
   "source": [
    "print(events[2], \"Aggregate Difference: \", values[2])"
   ]
  },
  {
   "cell_type": "code",
   "execution_count": 75,
   "metadata": {},
   "outputs": [
    {
     "name": "stdout",
     "output_type": "stream",
     "text": [
      "CCCAGG vs median: \n",
      "1004.0 1063.8449999999998\n",
      "\n",
      "Feeder prices: \n",
      "Feeder_1     1066.640\n",
      "Feeder_2     1066.640\n",
      "Feeder_3     1063.690\n",
      "Feeder_4     1066.640\n",
      "Feeder_5     1058.900\n",
      "Feeder_6     1052.000\n",
      "Feeder_7      911.130\n",
      "Feeder_8     1074.290\n",
      "Feeder_9     1055.000\n",
      "Feeder_10    1066.610\n",
      "Feeder_11    1064.000\n",
      "Feeder_12    1061.660\n",
      "Feeder_13    1070.000\n",
      "Feeder_14    1063.500\n",
      "median       1063.845\n",
      "Name: 2018-01-16 18:00:00, dtype: float64\n"
     ]
    }
   ],
   "source": [
    "get_results(events[2])"
   ]
  },
  {
   "cell_type": "code",
   "execution_count": 76,
   "metadata": {},
   "outputs": [
    {
     "name": "stdout",
     "output_type": "stream",
     "text": [
      "Gemini 1039.8600000000001\n",
      "Coinbase 1039.0\n"
     ]
    }
   ],
   "source": [
    "# Gemini 2018-01-16 18:00:00\tETHUSD\t1039.95\t1071.7\t1008.02\t1055.0\n",
    "# Coinbase 2018-01-16 06-PM\tETHUSD\t1041\t1072\t1006\t1058\n",
    "print('Gemini', (1071.7 + 1008.02)/2)\n",
    "print('Coinbase', (1072 + 1006)/2)"
   ]
  },
  {
   "cell_type": "code",
   "execution_count": 77,
   "metadata": {},
   "outputs": [
    {
     "data": {
      "text/plain": [
       "Feeder_1     1066.64\n",
       "Expire_1        6.00\n",
       "Feeder_2     1066.64\n",
       "Expire_2        6.00\n",
       "Feeder_3     1063.69\n",
       "Expire_3        6.00\n",
       "Feeder_4     1066.64\n",
       "Expire_4        6.00\n",
       "Feeder_5     1058.90\n",
       "Expire_5        6.00\n",
       "Feeder_6     1052.00\n",
       "Expire_6        6.00\n",
       "Feeder_7      911.13\n",
       "Expire_7        2.00\n",
       "Feeder_8     1074.29\n",
       "Expire_8        6.00\n",
       "Feeder_9     1055.00\n",
       "Expire_9        6.00\n",
       "Feeder_10    1066.61\n",
       "Expire_10       6.00\n",
       "Feeder_11    1064.00\n",
       "Expire_11       6.00\n",
       "Feeder_12    1061.66\n",
       "Expire_12       6.00\n",
       "Feeder_13    1070.00\n",
       "Expire_13       6.00\n",
       "Feeder_14    1063.50\n",
       "Expire_14       6.00\n",
       "Name: 2018-01-16 18:00:00, dtype: float64"
      ]
     },
     "execution_count": 77,
     "metadata": {},
     "output_type": "execute_result"
    }
   ],
   "source": [
    "dfs_ff.loc[events[2]]"
   ]
  },
  {
   "cell_type": "markdown",
   "metadata": {},
   "source": [
    "## Internal Disagreement"
   ]
  },
  {
   "cell_type": "markdown",
   "metadata": {},
   "source": [
    "### Boxplot"
   ]
  },
  {
   "cell_type": "code",
   "execution_count": 78,
   "metadata": {},
   "outputs": [
    {
     "data": {
      "image/png": "[encoded data removed]",
      "text/plain": [
       "<Figure size 1368x720 with 1 Axes>"
      ]
     },
     "metadata": {
      "needs_background": "light"
     },
     "output_type": "display_data"
    }
   ],
   "source": [
    "'''\n",
    "Use dfs_raw, **without ** forward fill, for everything that follows\n",
    "'''\n",
    "\n",
    "dfs_dev = pd.DataFrame(index = dfs_raw_compute.index)\n",
    "for i in range(1, 15):\n",
    "    # *percentage* deviations from the median are calculated as %\n",
    "    dfs_dev['feeder_dev_'+str(i)] = (dfs_raw_compute['Feeder_'+str(i)] - dfs_raw_compute['median'])/dfs_raw_compute[\"median\"] * 100\n",
    "    \n",
    "plt.figure(figsize=(19,10))\n",
    "dfs_dev_bp = dfs_dev.loc[:,\"feeder_dev_1\" :  \"feeder_dev_14\"]\n",
    "dfs_dev_bp.boxplot()\n",
    "plt.title(\"Boxplot: Deviation from the Median\")\n",
    "plt.savefig(\"Boxplot: Deviation from the Median\")\n",
    "plt.show()    "
   ]
  },
  {
   "cell_type": "code",
   "execution_count": 79,
   "metadata": {},
   "outputs": [
    {
     "data": {
      "text/plain": [
       "14.35500472343245"
      ]
     },
     "execution_count": 79,
     "metadata": {},
     "output_type": "execute_result"
    }
   ],
   "source": [
    "abs(dfs_dev.feeder_dev_7).max()"
   ]
  },
  {
   "cell_type": "code",
   "execution_count": 80,
   "metadata": {},
   "outputs": [
    {
     "data": {
      "text/plain": [
       "<matplotlib.axes._subplots.AxesSubplot at 0x12015dc10>"
      ]
     },
     "execution_count": 80,
     "metadata": {},
     "output_type": "execute_result"
    },
    {
     "data": {
      "image/png": "[encoded data removed]",
      "text/plain": [
       "<Figure size 432x288 with 1 Axes>"
      ]
     },
     "metadata": {
      "needs_background": "light"
     },
     "output_type": "display_data"
    }
   ],
   "source": [
    "dfs_dev.feeder_dev_8.hist()"
   ]
  },
  {
   "cell_type": "code",
   "execution_count": 81,
   "metadata": {},
   "outputs": [
    {
     "data": {
      "text/html": [
       "<div>\n",
       "<style scoped>\n",
       "    .dataframe tbody tr th:only-of-type {\n",
       "        vertical-align: middle;\n",
       "    }\n",
       "\n",
       "    .dataframe tbody tr th {\n",
       "        vertical-align: top;\n",
       "    }\n",
       "\n",
       "    .dataframe thead th {\n",
       "        text-align: right;\n",
       "    }\n",
       "</style>\n",
       "<table border=\"1\" class=\"dataframe\">\n",
       "  <thead>\n",
       "    <tr style=\"text-align: right;\">\n",
       "      <th></th>\n",
       "      <th>mean</th>\n",
       "      <th>standard deviation</th>\n",
       "    </tr>\n",
       "    <tr>\n",
       "      <th>Feeders</th>\n",
       "      <th></th>\n",
       "      <th></th>\n",
       "    </tr>\n",
       "  </thead>\n",
       "  <tbody>\n",
       "    <tr>\n",
       "      <th>feeder_dev_1</th>\n",
       "      <td>-0.017</td>\n",
       "      <td>0.466</td>\n",
       "    </tr>\n",
       "    <tr>\n",
       "      <th>feeder_dev_2</th>\n",
       "      <td>-0.014</td>\n",
       "      <td>0.449</td>\n",
       "    </tr>\n",
       "    <tr>\n",
       "      <th>feeder_dev_3</th>\n",
       "      <td>-0.002</td>\n",
       "      <td>0.544</td>\n",
       "    </tr>\n",
       "    <tr>\n",
       "      <th>feeder_dev_4</th>\n",
       "      <td>0.013</td>\n",
       "      <td>0.471</td>\n",
       "    </tr>\n",
       "    <tr>\n",
       "      <th>feeder_dev_5</th>\n",
       "      <td>-0.070</td>\n",
       "      <td>0.674</td>\n",
       "    </tr>\n",
       "    <tr>\n",
       "      <th>feeder_dev_6</th>\n",
       "      <td>-0.051</td>\n",
       "      <td>0.538</td>\n",
       "    </tr>\n",
       "    <tr>\n",
       "      <th>feeder_dev_7</th>\n",
       "      <td>0.095</td>\n",
       "      <td>0.746</td>\n",
       "    </tr>\n",
       "    <tr>\n",
       "      <th>feeder_dev_8</th>\n",
       "      <td>0.086</td>\n",
       "      <td>0.714</td>\n",
       "    </tr>\n",
       "    <tr>\n",
       "      <th>feeder_dev_9</th>\n",
       "      <td>0.024</td>\n",
       "      <td>0.539</td>\n",
       "    </tr>\n",
       "    <tr>\n",
       "      <th>feeder_dev_10</th>\n",
       "      <td>-0.018</td>\n",
       "      <td>0.511</td>\n",
       "    </tr>\n",
       "    <tr>\n",
       "      <th>feeder_dev_11</th>\n",
       "      <td>0.005</td>\n",
       "      <td>0.470</td>\n",
       "    </tr>\n",
       "    <tr>\n",
       "      <th>feeder_dev_12</th>\n",
       "      <td>-0.069</td>\n",
       "      <td>0.601</td>\n",
       "    </tr>\n",
       "    <tr>\n",
       "      <th>feeder_dev_13</th>\n",
       "      <td>0.045</td>\n",
       "      <td>0.543</td>\n",
       "    </tr>\n",
       "    <tr>\n",
       "      <th>feeder_dev_14</th>\n",
       "      <td>0.104</td>\n",
       "      <td>0.675</td>\n",
       "    </tr>\n",
       "  </tbody>\n",
       "</table>\n",
       "</div>"
      ],
      "text/plain": [
       "                mean  standard deviation\n",
       "Feeders                                 \n",
       "feeder_dev_1  -0.017               0.466\n",
       "feeder_dev_2  -0.014               0.449\n",
       "feeder_dev_3  -0.002               0.544\n",
       "feeder_dev_4   0.013               0.471\n",
       "feeder_dev_5  -0.070               0.674\n",
       "feeder_dev_6  -0.051               0.538\n",
       "feeder_dev_7   0.095               0.746\n",
       "feeder_dev_8   0.086               0.714\n",
       "feeder_dev_9   0.024               0.539\n",
       "feeder_dev_10 -0.018               0.511\n",
       "feeder_dev_11  0.005               0.470\n",
       "feeder_dev_12 -0.069               0.601\n",
       "feeder_dev_13  0.045               0.543\n",
       "feeder_dev_14  0.104               0.675"
      ]
     },
     "execution_count": 81,
     "metadata": {},
     "output_type": "execute_result"
    }
   ],
   "source": [
    "col = list(dfs_dev)\n",
    "mean = [round(np.mean(dfs_dev[c]),3) for c in col]\n",
    "sd = [round(np.std(dfs_dev[c]),3) for c in col]\n",
    "stats = pd.DataFrame({'Feeders': col, \n",
    "                     'mean': mean,\n",
    "                     'standard deviation': sd})\n",
    "stats = stats.set_index('Feeders')\n",
    "stats"
   ]
  },
  {
   "cell_type": "code",
   "execution_count": 82,
   "metadata": {},
   "outputs": [
    {
     "data": {
      "text/plain": [
       "mean                  0.086\n",
       "standard deviation    0.714\n",
       "Name: feeder_dev_8, dtype: float64"
      ]
     },
     "execution_count": 82,
     "metadata": {},
     "output_type": "execute_result"
    }
   ],
   "source": [
    "stats.loc['feeder_dev_8']"
   ]
  },
  {
   "cell_type": "code",
   "execution_count": 83,
   "metadata": {},
   "outputs": [
    {
     "name": "stdout",
     "output_type": "stream",
     "text": [
      "0.03775374691709353\n",
      "133 66 199 5271\n"
     ]
    }
   ],
   "source": [
    "#standard deviations: if 2 s.d., reject 3.8% data by Feeder 8\n",
    "i = 2\n",
    "pos = np.sum(dfs_dev.feeder_dev_8 > 0.086 + i*0.714)\n",
    "neg = np.sum(dfs_dev.feeder_dev_8 < 0.086 - i*0.714)\n",
    "nan = np.sum(dfs_dev.feeder_dev_8.isna())\n",
    "tot = len(dfs_dev.feeder_dev_8)\n",
    "print((pos + neg) / (tot - nan))\n",
    "print(pos, neg, pos+neg, tot - nan)"
   ]
  },
  {
   "cell_type": "code",
   "execution_count": 84,
   "metadata": {},
   "outputs": [
    {
     "data": {
      "image/png": "[encoded data removed]",
      "text/plain": [
       "<Figure size 432x288 with 1 Axes>"
      ]
     },
     "metadata": {
      "needs_background": "light"
     },
     "output_type": "display_data"
    }
   ],
   "source": [
    "#scatter plot showing each oracle's s.d on its perc_dev from the mean price\n",
    "plt.scatter(x = np.arange(1,15),y = stats[\"standard deviation\"], color = 'dimgray')\n",
    "plt.axhline(y= np.mean(stats[\"standard deviation\"]), color='r', linestyle='dashed')\n",
    "plt.title(\"Standard Deviation on feeder_deviation\")\n",
    "plt.savefig(\"Standard Deviation on feeder_deviation\")"
   ]
  },
  {
   "cell_type": "code",
   "execution_count": 49,
   "metadata": {},
   "outputs": [
    {
     "name": "stdout",
     "output_type": "stream",
     "text": [
      "Event: 2017-12-22 08:00:00\n",
      "feeder_dev_8    15.22777\n",
      "dtype: float64\n"
     ]
    }
   ],
   "source": [
    "timeslice = abs(dfs_dev[['feeder_dev_8']]).idxmax()[0]\n",
    "print('Event: {}'.format(timeslice))\n",
    "print(abs(dfs_dev[['feeder_dev_8']]).max())"
   ]
  },
  {
   "cell_type": "code",
   "execution_count": 50,
   "metadata": {},
   "outputs": [
    {
     "name": "stdout",
     "output_type": "stream",
     "text": [
      "2017-12-22 08:00:00 -15.23\n",
      "2017-12-12 19:00:00 8.27\n",
      "2017-12-19 17:00:00 8.17\n",
      "2018-01-16 06:00:00 8.13\n",
      "2018-01-16 04:00:00 -7.93\n"
     ]
    }
   ],
   "source": [
    "Feeder_8_dev = pd.Series(dfs_dev['feeder_dev_8'])\n",
    "top_dev_event = abs(Feeder_8_dev).sort_values(ascending = False)[:5]\n",
    "for each in top_dev_event.index:\n",
    "    print(each, dfs_dev.loc[each]['feeder_dev_8'].round(2))"
   ]
  },
  {
   "cell_type": "markdown",
   "metadata": {},
   "source": [
    "## Low Activity"
   ]
  },
  {
   "cell_type": "markdown",
   "metadata": {},
   "source": [
    "#### Across all feeders - entire dataset"
   ]
  },
  {
   "cell_type": "code",
   "execution_count": 51,
   "metadata": {},
   "outputs": [
    {
     "data": {
      "image/png": "[encoded data removed]",
      "text/plain": [
       "<Figure size 1080x720 with 1 Axes>"
      ]
     },
     "metadata": {
      "needs_background": "light"
     },
     "output_type": "display_data"
    }
   ],
   "source": [
    "#Using rounded hourly snapshot to aggregate\n",
    "\n",
    "# feeds = list(dfs_raw_compute)\n",
    "# activity = []\n",
    "# for feed in feeds:\n",
    "#     active = sum(~np.isnan(dfs_raw_compute[feed]))\n",
    "#     activity.append(active)\n",
    "\n",
    "# plt.figure(figsize=(15,10))    \n",
    "# plt.bar(feeds[:14], activity[:14], color = \"slategray\")\n",
    "# plt.ylabel(\"Number of Price Feeds posted\")\n",
    "# plt.title(\"Feeder Posting Activity\")\n",
    "# plt.savefig(\"Feeder Posting Activity\")\n",
    "# plt.show()\n",
    "\n",
    "activity = files[0].merge(files[1], how = 'outer', sort = True)\n",
    "for i in range(2,14):\n",
    "    activity = activity.merge(files[i], how = 'outer', sort = True)\n",
    "for i in range(1, 15):    \n",
    "    activity = activity.drop(columns = ['Expire_'+str(i)])\n",
    "activity = activity.set_index('timeStamp')\n",
    "feeds = list(activity)\n",
    "activity_list = []\n",
    "for feed in feeds:\n",
    "    active = sum(~np.isnan(activity[feed]))\n",
    "    activity_list.append(active)\n",
    "\n",
    "plt.figure(figsize=(15,10))    \n",
    "plt.bar(feeds, activity_list, color = \"slategray\")\n",
    "plt.ylabel(\"Number of Price Feeds posted\")\n",
    "plt.title(\"Feeder Posting Activity\")\n",
    "plt.savefig(\"Feeder Posting Activity\")\n",
    "plt.show()"
   ]
  },
  {
   "cell_type": "markdown",
   "metadata": {},
   "source": [
    "#### Pick some feeders - across every hour in a day"
   ]
  },
  {
   "cell_type": "raw",
   "metadata": {},
   "source": [
    "# choices = [2, 8, 14]\n",
    "# dfs_select= pd.DataFrame()\n",
    "\n",
    "# for i in range(len(choices)):\n",
    "#     dfs_select[\"Feeder_\"+str(choices[i])] = dfs_raw_compute[\"Feeder_\"+str(choices[i])]\n",
    "# dfs_select['hour'] = dfs_select.index.hour\n",
    "# dfs_select = dfs_select.groupby(['hour']).apply(lambda x: x.notnull().sum())\n",
    "\n",
    "# '''\n",
    "# Plotting grouped box chart\n",
    "# '''\n",
    "# plt.figure(figsize=(15,10))  \n",
    "# # set width of bar\n",
    "# barWidth = 0.25\n",
    "# x = np.arange(24)\n",
    "# # set height of bar\n",
    "# bars1 = dfs_select['Feeder_' + str(choices[0])]\n",
    "# bars2 = dfs_select['Feeder_' + str(choices[1])]\n",
    "# bars3 = dfs_select['Feeder_' + str(choices[2])]\n",
    " \n",
    "# # Set position of bar on X axis\n",
    "# r1 = np.arange(len(bars1))\n",
    "# r2 = [x + barWidth for x in r1]\n",
    "# r3 = [x + barWidth for x in r2]\n",
    " \n",
    "# # # bar chart\n",
    "# plt.bar(r1, bars1, color='deepskyblue', width=barWidth, edgecolor='white', label='Feeder_' + str(choices[0]))\n",
    "# plt.bar(r2, bars2, color='slategrey', width=barWidth, edgecolor='white', label='Feeder_' + str(choices[1]))\n",
    "# plt.bar(r3, bars3, color='red', width=barWidth, edgecolor='white', label='Feeder_' + str(choices[2]))\n",
    "\n",
    "# # #line plot\n",
    "# # plt.plot(bars1)\n",
    "# # plt.plot(bars2)\n",
    "# # plt.plot(bars3)\n",
    "\n",
    "# plt.xlabel('Hour of the Day')\n",
    "# plt.ylabel('Number of Feeds Posted')\n",
    "# plt.xticks(x)\n",
    "# plt.title(\"Daily Price Posting Activity\")\n",
    "# plt.legend()\n",
    "# plt.savefig(\"Daily Price Posting Activity\")"
   ]
  },
  {
   "cell_type": "markdown",
   "metadata": {},
   "source": [
    "#### Price Age"
   ]
  },
  {
   "cell_type": "code",
   "execution_count": 52,
   "metadata": {},
   "outputs": [
    {
     "data": {
      "image/png": "[encoded data removed]",
      "text/plain": [
       "<Figure size 1080x720 with 1 Axes>"
      ]
     },
     "metadata": {
      "needs_background": "light"
     },
     "output_type": "display_data"
    }
   ],
   "source": [
    "plt.figure(figsize=(15,10)) \n",
    "for i in range(14):\n",
    "    plt.plot(dfs_raw.index, dfs_raw['Expire_'+ str(i+1)], label = \"Feed \" + str(i+1))\n",
    "plt.legend()\n",
    "\n",
    "plt.ylabel(\"Time to Expiry of Price Feeds in Hours\")\n",
    "plt.title(\"Measuring Expiry Time\")\n",
    "plt.savefig(\"Measuring Price Expiry Time - ALL\")"
   ]
  },
  {
   "cell_type": "code",
   "execution_count": 53,
   "metadata": {},
   "outputs": [],
   "source": [
    "def measure_staleness(choice, title):\n",
    "    dfs_ff['Expire_'+ str(choice)].hist(bins = np.arange(15), color = 'lightslategrey')\n",
    "    plt.xlabel(\"Price Feeds Expiry in Hours\")\n",
    "    plt.ylabel(\"Frequency\")\n",
    "    plt.title(\"Measuring Price Staleness for \" + title)\n",
    "    plt.savefig(\"Measuring Price Staleness for \" + title)"
   ]
  },
  {
   "cell_type": "code",
   "execution_count": null,
   "metadata": {},
   "outputs": [],
   "source": [
    "measure_staleness(9, \"Feeder 9\")"
   ]
  },
  {
   "cell_type": "code",
   "execution_count": null,
   "metadata": {},
   "outputs": [],
   "source": [
    "measure_staleness(8, \"Feeder 8\")"
   ]
  },
  {
   "cell_type": "code",
   "execution_count": null,
   "metadata": {},
   "outputs": [],
   "source": [
    "measure_staleness(13, \"Feeder 13\")"
   ]
  },
  {
   "cell_type": "markdown",
   "metadata": {},
   "source": [
    "#### Measuring Time Gap\n"
   ]
  },
  {
   "cell_type": "code",
   "execution_count": 54,
   "metadata": {},
   "outputs": [
    {
     "name": "stdout",
     "output_type": "stream",
     "text": [
      "1 5650\n",
      "2 4996\n",
      "3 4995\n",
      "4 4995\n",
      "5 4995\n",
      "6 8691\n",
      "7 5713\n",
      "8 7987\n",
      "9 6992\n",
      "10 4996\n",
      "11 4996\n",
      "12 6993\n",
      "13 4996\n",
      "14 3885\n"
     ]
    }
   ],
   "source": [
    "hours_list = []\n",
    "for i in range(len(files)):\n",
    "    files[i]['TimeGap_' + str(i+1)] = (files[i]['timeStamp'] - files[i]['timeStamp'].shift()).fillna(pd.to_timedelta(\"00:00:00\"))\n",
    "    hours = files[i][\"TimeGap_\" + str(i+1)].dt.components['hours']\n",
    "    hours_list.append(hours)\n",
    "    print(i+1, len(hours))"
   ]
  },
  {
   "cell_type": "code",
   "execution_count": 55,
   "metadata": {},
   "outputs": [],
   "source": [
    "def time_gap_graph(feeder):\n",
    "    hours_list[feeder-1].hist(bins = np.arange(15), color = 'lightslategrey')\n",
    "    plt.xlabel(\"Time Gap between Posting (hours)\")\n",
    "    plt.ylabel(\"Frequency\")\n",
    "    plt.title(\"Time Gap between Posting for Feeder \" + str(feeder))\n",
    "    plt.savefig(\"Time Gap for Feeder \" + str(feeder))"
   ]
  },
  {
   "cell_type": "code",
   "execution_count": 69,
   "metadata": {},
   "outputs": [
    {
     "data": {
      "image/png": "[encoded data removed]",
      "text/plain": [
       "<Figure size 432x288 with 1 Axes>"
      ]
     },
     "metadata": {
      "needs_background": "light"
     },
     "output_type": "display_data"
    }
   ],
   "source": [
    "time_gap_graph(14)"
   ]
  },
  {
   "cell_type": "markdown",
   "metadata": {},
   "source": [
    "## Hypothesis Testing"
   ]
  },
  {
   "cell_type": "markdown",
   "metadata": {},
   "source": [
    "### Hypothesis testing of the Largest Deviation: 2017 Dec 22, at 8am by Oracle 8"
   ]
  },
  {
   "cell_type": "code",
   "execution_count": 70,
   "metadata": {},
   "outputs": [
    {
     "name": "stdout",
     "output_type": "stream",
     "text": [
      "At 2017-12-22 08:00:00, 3 feeders did not report prices\n"
     ]
    },
    {
     "data": {
      "text/plain": [
       "Feeder_1     626.947\n",
       "Feeder_2     641.777\n",
       "Feeder_3     635.510\n",
       "Feeder_4     619.891\n",
       "Feeder_5         NaN\n",
       "Feeder_6     542.988\n",
       "Feeder_7         NaN\n",
       "Feeder_8     538.736\n",
       "Feeder_9         NaN\n",
       "Feeder_10    646.245\n",
       "Feeder_11    648.504\n",
       "Feeder_12    631.490\n",
       "Feeder_13    650.443\n",
       "Feeder_14    642.943\n",
       "median       635.510\n",
       "Name: 2017-12-22 08:00:00, dtype: float64"
      ]
     },
     "execution_count": 70,
     "metadata": {},
     "output_type": "execute_result"
    }
   ],
   "source": [
    "event = \"2017-12-22 08:00:00\"\n",
    "time_slice1 = dfs_raw_compute.loc[event]\n",
    "print(\"At {}, {} feeders did not report prices\".format(time_slice1.name, time_slice1.isna().sum()))\n",
    "time_slice1"
   ]
  },
  {
   "cell_type": "code",
   "execution_count": 71,
   "metadata": {},
   "outputs": [],
   "source": [
    "time_slice1 = time_slice1.rename('With Feeder 8')"
   ]
  },
  {
   "cell_type": "markdown",
   "metadata": {},
   "source": [
    "#### Method 1"
   ]
  },
  {
   "cell_type": "code",
   "execution_count": 72,
   "metadata": {},
   "outputs": [
    {
     "name": "stdout",
     "output_type": "stream",
     "text": [
      "Excluding Feeder 8, ML_mean: 628.67 ; ML_std: 30.05\n",
      "Median reported price:  635.51\n",
      "Feeder 8 reported 538.74\n",
      "Feeder 8 has a -15.23% deviation from the median, and is 2.99 s.d. away from the mean\n",
      "\n",
      "P-value that Feeder 8 is reporting truthfully: 0.00276\n",
      "\n"
     ]
    },
    {
     "data": {
      "image/png": "[encoded data removed]",
      "text/plain": [
       "<Figure size 432x288 with 1 Axes>"
      ]
     },
     "metadata": {
      "needs_background": "light"
     },
     "output_type": "display_data"
    }
   ],
   "source": [
    "#Methodology 1 (to be discarded) - ML per time slice, but not enough data points\n",
    "\n",
    "Feeder_8 = time_slice1[\"Feeder_8\"]\n",
    "Feeder_8_dev = (Feeder_8 - time_slice1[\"median\"]) / time_slice1[\"median\"]\n",
    "time_slice1_without8 = time_slice1.drop(\"Feeder_8\")\n",
    "time_slice1_without8 = time_slice1_without8.rename(\"Without Feeder 8\")\n",
    "\n",
    "#maximum likelihood\n",
    "mu = np.mean(time_slice1_without8[:-1])\n",
    "s = np.std(time_slice1_without8[:-1])\n",
    "print(\"Excluding Feeder 8, ML_mean: {:.2f}\".format(mu), \"; ML_std: {:.2f}\".format(s))\n",
    "print(\"Median reported price: {: .2f}\".format(time_slice1.loc[\"median\"]))\n",
    "print('Feeder 8 reported {:.2f}'.format(Feeder_8))\n",
    "print(\"Feeder 8 has a {:.2f}% deviation from the median, and is {:.2f} s.d. away from the mean\".format(Feeder_8_dev * 100, abs((Feeder_8 - mu)/ s)))\n",
    "print()\n",
    "\n",
    "#Cross-sectional examination: given the time slice of a specific hour, carry hypothesis testing assuming CLT\n",
    "p1 = 2 * (1 - sts.norm.cdf(np.abs(Feeder_8 - mu), loc = 0, scale = s))\n",
    "print(\"P-value that Feeder 8 is reporting truthfully: {:.5f}\".format(p1))\n",
    "print()\n",
    "\n",
    "#Generate Kernel Density Estimate plot using Gaussian kernels.\n",
    "graph1 = time_slice1.plot.kde()\n",
    "graph2 = time_slice1_without8.plot.kde()\n",
    "graph1.set_label('a')\n",
    "graph2.set_label('b')\n",
    "plt.xlabel('ETH-USD Price')\n",
    "plt.title(\"Kernel Density Estimate\")\n",
    "plt.grid()\n",
    "plt.legend()\n",
    "plt.savefig(\"KDE\")"
   ]
  },
  {
   "cell_type": "markdown",
   "metadata": {},
   "source": [
    "#### Method 2"
   ]
  },
  {
   "cell_type": "code",
   "execution_count": 73,
   "metadata": {},
   "outputs": [
    {
     "name": "stdout",
     "output_type": "stream",
     "text": [
      "\n",
      "Feeder 8 perc_dev - mean: 0.086, s.d: 0.714, dev: -15.227769822662129\n",
      "P-value that Feeder 8 is reporting truthfully:  0.0\n"
     ]
    },
    {
     "data": {
      "image/png": "[encoded data removed]",
      "text/plain": [
       "<Figure size 432x288 with 1 Axes>"
      ]
     },
     "metadata": {
      "needs_background": "light"
     },
     "output_type": "display_data"
    }
   ],
   "source": [
    "# Methodology 2 (preferred) - ML per Feeder using the entire time history\n",
    "dfs_dev.feeder_dev_8.hist(bins = 50, color = 'lightslategrey')\n",
    "plt.title(\"Feeder 8 deviations from the median over time\")\n",
    "plt.xlim(-4, 4)\n",
    "plt.savefig(\"Histogram for Feeder 8 price deviation\")\n",
    "print()\n",
    "\n",
    "#Time series examination: look at Feeder 8 historical deviations, assuming its deviations are normally distributed around mean 0\n",
    "mu_8 = stats.loc['feeder_dev_8']['mean']\n",
    "s_8 = stats.loc['feeder_dev_8']['standard deviation']\n",
    "p2 = 2 * (1 - sts.norm.cdf(np.abs(Feeder_8_dev * 100 - mu_8), loc = 0, scale = s_8))\n",
    "print('Feeder 8 perc_dev - mean: {}, s.d: {}, dev: {}'.format(mu_8, s_8, Feeder_8_dev * 100))\n",
    "print(\"P-value that Feeder 8 is reporting truthfully: \", p2)"
   ]
  }
 ],
 "metadata": {
  "kernelspec": {
   "display_name": "Python 3",
   "language": "python",
   "name": "python3"
  },
  "language_info": {
   "codemirror_mode": {
    "name": "ipython",
    "version": 3
   },
   "file_extension": ".py",
   "mimetype": "text/x-python",
   "name": "python",
   "nbconvert_exporter": "python",
   "pygments_lexer": "ipython3",
   "version": "3.7.4"
  }
 },
 "nbformat": 4,
 "nbformat_minor": 4
}
